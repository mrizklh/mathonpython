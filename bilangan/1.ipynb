{
 "cells": [
  {
   "cell_type": "code",
   "execution_count": 1,
   "metadata": {},
   "outputs": [
    {
     "name": "stdout",
     "output_type": "stream",
     "text": [
      "hello world\n"
     ]
    }
   ],
   "source": [
    "print(\"hello world\")"
   ]
  },
  {
   "cell_type": "code",
   "execution_count": 3,
   "metadata": {},
   "outputs": [
    {
     "data": {
      "text/plain": [
       "1.681792830507429"
      ]
     },
     "execution_count": 3,
     "metadata": {},
     "output_type": "execute_result"
    }
   ],
   "source": [
    "8**(1/4)"
   ]
  },
  {
   "cell_type": "markdown",
   "metadata": {},
   "source": [
    "untuk $8^{\\frac{1}{3}}$ atau sama dengan $\\sqrt[3]{8}$"
   ]
  },
  {
   "cell_type": "markdown",
   "metadata": {},
   "source": [
    "dalam python 5%2 = 1 karena tandan persen bermakna sisa dari pembagian. sedangkan tandan // dalan 5//2 akan menghasilkan bilangan bulat atau yang dikenal dengan step floor function. "
   ]
  },
  {
   "cell_type": "markdown",
   "metadata": {},
   "source": [
    "tanda kurung dalam Python berfungsi sama seperti dalam matemtika yang kita pelajari di sekolah. "
   ]
  },
  {
   "cell_type": "code",
   "execution_count": 10,
   "metadata": {},
   "outputs": [
    {
     "name": "stdout",
     "output_type": "stream",
     "text": [
      "1/2\n"
     ]
    }
   ],
   "source": [
    "from fractions import Fraction\n",
    "a = Fraction(1,2)\n",
    "print(a)"
   ]
  },
  {
   "cell_type": "markdown",
   "metadata": {},
   "source": [
    "adalah contoh penggunaan fungsi fraction alih-alih menggunakan operators \"/\""
   ]
  },
  {
   "cell_type": "code",
   "execution_count": 12,
   "metadata": {},
   "outputs": [
    {
     "name": "stdout",
     "output_type": "stream",
     "text": [
      "1\n"
     ]
    }
   ],
   "source": [
    "a = (Fraction(1,2)+ Fraction(1,2))**100\n",
    "print(a)"
   ]
  },
  {
   "cell_type": "markdown",
   "metadata": {},
   "source": [
    "## Bilangan Kompleks \n",
    "\n",
    "Bilangan Kompleks adalah bilangan yang memiliki komponen real dan kompleks. komponen real adalah komponen yang biasa kita gunakan sehari-hari. sedangkan bilangan kompleks berasal dari akar kuadrat -1. karena tidak ada bilangan kuadrat yang menghasilkan bilangan negatif maka, $\\sqrt{-1}$ atau disimbolkan dengan $\\imath$ singkatan dari imajiner. \n",
    "\n",
    "Adanya bilangan imajiner adalah analog bilangan negatif pada penjumlahan atau pengurangan untuk pangkat dan akar pangkat. Penamaan Bilangan Imajiner adalah *misnomer* dari sejarah matematikawan sama seperti perjuangan eksistensi bilangan negatif. \n",
    "\n",
    "Dalam bahasa pemrogramman python bilangan imajiner ditulis dengan $\\jmath$ sebagai pembeda dengan yang dipakai dalam matematika. seperti pada contoh di bawah ini.\n",
    "\n",
    "\n"
   ]
  },
  {
   "cell_type": "code",
   "execution_count": 19,
   "metadata": {},
   "outputs": [
    {
     "name": "stdout",
     "output_type": "stream",
     "text": [
      "<class 'complex'>\n"
     ]
    }
   ],
   "source": [
    "a = 2j \n",
    "print(type(a))"
   ]
  },
  {
   "cell_type": "code",
   "execution_count": 21,
   "metadata": {},
   "outputs": [
    {
     "name": "stdout",
     "output_type": "stream",
     "text": [
      "(-0-8j)\n"
     ]
    }
   ],
   "source": [
    "b = a**3\n",
    "print(b)"
   ]
  },
  {
   "cell_type": "markdown",
   "metadata": {},
   "source": [
    "nilai bilangan imajiner memiliki properti yang unik. yaitu nilainya berosilasi seiring dengan nilai pangkatnya. sebagai contoh,jika bilangan $\\imath$ ditulis dengan pangkat 2 maka nilai nya adalah $(\\sqrt{-1})^{2}$ yang menghasilkan nilai -1. jika ditulis dengan pangkat 3 maka nilai nya adalah $(\\sqrt{-1})^{3}$ yang menghasilkan nilai $-\\imath$, sedangkan jika bilangan imajiner berpangkat 4 maka nilai nya adalah $(\\sqrt{-1})^{4}$ yang menghasilkan nilai $-\\imath^{2}$ yaitu sama dengan 1. "
   ]
  },
  {
   "cell_type": "markdown",
   "metadata": {},
   "source": [
    "anda bisa mencobanya sendiri dengan mengubah nilai dari variable pangkat di bawah ini."
   ]
  },
  {
   "cell_type": "code",
   "execution_count": 24,
   "metadata": {},
   "outputs": [
    {
     "name": "stdout",
     "output_type": "stream",
     "text": [
      "(-1+5.778228357811107e-14j)\n"
     ]
    }
   ],
   "source": [
    "a1 = 1j \n",
    "pangkat = int(input(\"Pangkat: \"))\n",
    "b1 = a1**pangkat\n",
    "print(b1)"
   ]
  },
  {
   "cell_type": "markdown",
   "metadata": {},
   "source": [
    "**Peringatan**\n",
    "Dikarenakan sebuah tipe data float dari python berukuran 8 byte jadi dengan keterbatasan "
   ]
  }
 ],
 "metadata": {
  "kernelspec": {
   "display_name": "Python 3.10.4 64-bit",
   "language": "python",
   "name": "python3"
  },
  "language_info": {
   "codemirror_mode": {
    "name": "ipython",
    "version": 3
   },
   "file_extension": ".py",
   "mimetype": "text/x-python",
   "name": "python",
   "nbconvert_exporter": "python",
   "pygments_lexer": "ipython3",
   "version": "3.10.4"
  },
  "orig_nbformat": 4,
  "vscode": {
   "interpreter": {
    "hash": "4f946df053fbf2b937619d3c5458e7af74262f9a954d8797ba0b27400bcafe06"
   }
  }
 },
 "nbformat": 4,
 "nbformat_minor": 2
}
