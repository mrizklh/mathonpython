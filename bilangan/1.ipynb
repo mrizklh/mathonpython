{
 "cells": [
  {
   "cell_type": "code",
   "execution_count": 1,
   "metadata": {},
   "outputs": [
    {
     "name": "stdout",
     "output_type": "stream",
     "text": [
      "hello world\n"
     ]
    }
   ],
   "source": [
    "print(\"hello world\")"
   ]
  },
  {
   "cell_type": "code",
   "execution_count": 3,
   "metadata": {},
   "outputs": [
    {
     "data": {
      "text/plain": [
       "1.681792830507429"
      ]
     },
     "execution_count": 3,
     "metadata": {},
     "output_type": "execute_result"
    }
   ],
   "source": [
    "8**(1/4)"
   ]
  },
  {
   "cell_type": "markdown",
   "metadata": {},
   "source": [
    "untuk $8^{\\frac{1}{3}}$ atau sama dengan $\\sqrt[3]{8}$"
   ]
  },
  {
   "cell_type": "markdown",
   "metadata": {},
   "source": [
    "dalam python 5%2 = 1 karena tandan persen bermakna sisa dari pembagian. sedangkan tandan // dalan 5//2 akan menghasilkan bilangan bulat atau yang dikenal dengan step floor function. "
   ]
  },
  {
   "cell_type": "markdown",
   "metadata": {},
   "source": [
    "tanda kurung dalam Python berfungsi sama seperti dalam matemtika yang kita pelajari di sekolah. "
   ]
  },
  {
   "cell_type": "code",
   "execution_count": 10,
   "metadata": {},
   "outputs": [
    {
     "name": "stdout",
     "output_type": "stream",
     "text": [
      "1/2\n"
     ]
    }
   ],
   "source": [
    "from fractions import Fraction\n",
    "a = Fraction(1,2)\n",
    "print(a)"
   ]
  },
  {
   "cell_type": "markdown",
   "metadata": {},
   "source": [
    "adalah contoh penggunaan fungsi fraction alih-alih menggunakan operators \"/\""
   ]
  },
  {
   "cell_type": "code",
   "execution_count": 12,
   "metadata": {},
   "outputs": [
    {
     "name": "stdout",
     "output_type": "stream",
     "text": [
      "1\n"
     ]
    }
   ],
   "source": [
    "a = (Fraction(1,2)+ Fraction(1,2))**100\n",
    "print(a)"
   ]
  },
  {
   "cell_type": "markdown",
   "metadata": {},
   "source": [
    "## Bilangan Kompleks \n",
    "\n",
    "Bilangan Kompleks adalah bilangan yang memiliki komponen real dan kompleks. komponen real adalah komponen yang biasa kita gunakan sehari-hari. sedangkan bilangan kompleks berasal dari akar kuadrat -1. karena tidak ada bilangan kuadrat yang menghasilkan bilangan negatif maka, $\\sqrt{-1}$ atau disimbolkan dengan $\\imath$ singkatan dari imajiner. \n",
    "\n",
    "Adanya bilangan imajiner adalah analog bilangan negatif pada penjumlahan atau pengurangan untuk pangkat dan akar pangkat. Penamaan Bilangan Imajiner adalah *misnomer* dari sejarah matematikawan sama seperti perjuangan eksistensi bilangan negatif. \n",
    "\n",
    "Dalam bahasa pemrogramman python bilangan imajiner ditulis dengan $\\jmath$ sebagai pembeda dengan yang dipakai dalam matematika. seperti pada contoh di bawah ini.\n",
    "\n",
    "\n"
   ]
  },
  {
   "cell_type": "code",
   "execution_count": 19,
   "metadata": {},
   "outputs": [
    {
     "name": "stdout",
     "output_type": "stream",
     "text": [
      "<class 'complex'>\n"
     ]
    }
   ],
   "source": [
    "a = 2j \n",
    "print(type(a))"
   ]
  },
  {
   "cell_type": "code",
   "execution_count": 21,
   "metadata": {},
   "outputs": [
    {
     "name": "stdout",
     "output_type": "stream",
     "text": [
      "(-0-8j)\n"
     ]
    }
   ],
   "source": [
    "b = a**3\n",
    "print(b)"
   ]
  },
  {
   "cell_type": "markdown",
   "metadata": {},
   "source": [
    "nilai bilangan imajiner memiliki properti yang unik. yaitu nilainya berosilasi seiring dengan nilai pangkatnya. sebagai contoh,jika bilangan $\\imath$ ditulis dengan pangkat 2 maka nilai nya adalah $(\\sqrt{-1})^{2}$ yang menghasilkan nilai -1. jika ditulis dengan pangkat 3 maka nilai nya adalah $(\\sqrt{-1})^{3}$ yang menghasilkan nilai $-\\imath$, sedangkan jika bilangan imajiner berpangkat 4 maka nilai nya adalah $(\\sqrt{-1})^{4}$ yang menghasilkan nilai $-\\imath^{2}$ yaitu sama dengan 1. "
   ]
  },
  {
   "cell_type": "markdown",
   "metadata": {},
   "source": [
    "anda bisa mencobanya sendiri dengan mengubah nilai dari variable pangkat di bawah ini."
   ]
  },
  {
   "cell_type": "code",
   "execution_count": 24,
   "metadata": {},
   "outputs": [
    {
     "name": "stdout",
     "output_type": "stream",
     "text": [
      "(-1+5.778228357811107e-14j)\n"
     ]
    }
   ],
   "source": [
    "a1 = 1j \n",
    "pangkat = int(input(\"Pangkat: \"))\n",
    "b1 = a1**pangkat\n",
    "print(b1)"
   ]
  },
  {
   "cell_type": "markdown",
   "metadata": {},
   "source": [
    "**Peringatan**\n",
    "Dikarenakan sebuah tipe data float dari python berukuran 32 bits jadi dengan keterbatasan digit untuk pangkat yang besar maka nilai yang ditampilkan kurang akurat. "
   ]
  },
  {
   "cell_type": "markdown",
   "metadata": {},
   "source": [
    "bilangan kompleks pada Python juga bisa direpresentasikan dengan fungsi complex, mirip seperti pembagian yang sebelumnya telah kita bahas. kita juga tidak bisa mengkonversi bilangan kompleks ke tipe data int dan float. karena bilangan kompleks merupakan ekstensi dari bilangan real."
   ]
  },
  {
   "cell_type": "code",
   "execution_count": 36,
   "metadata": {},
   "outputs": [
    {
     "name": "stdout",
     "output_type": "stream",
     "text": [
      "(-7-24j)\n"
     ]
    }
   ],
   "source": [
    "a2 = complex(1, 2)\n",
    "b2 = a2**4 \n",
    "print(b2)"
   ]
  },
  {
   "cell_type": "code",
   "execution_count": 37,
   "metadata": {},
   "outputs": [
    {
     "name": "stdout",
     "output_type": "stream",
     "text": [
      "-7.0\n",
      "-24.0\n",
      "(-7+24j)\n"
     ]
    }
   ],
   "source": [
    "c2 = b2.real\n",
    "c3 = b2.imag\n",
    "c4 = b2.conjugate()\n",
    "print(c2)\n",
    "print(c3)\n",
    "print(c4)"
   ]
  },
  {
   "cell_type": "code",
   "execution_count": 39,
   "metadata": {},
   "outputs": [
    {
     "name": "stdout",
     "output_type": "stream",
     "text": [
      "25.0\n",
      "25.0\n"
     ]
    }
   ],
   "source": [
    "# untk menghitung magnitudo dari bilangan kompleks kita bisa menggunakan rumus pythagoras\n",
    "# sqrt(a**2 + b**2)\n",
    "#untuk b2 maka hasilnya adalah \n",
    "mag = (b2.real**2 + b2.imag**2)**(1/2)\n",
    "print(mag)\n",
    "\n",
    "#atau bisa juga digunakan dengan funcsi abs()\n",
    "mag1 = abs(b2)\n",
    "print(mag1)"
   ]
  },
  {
   "cell_type": "code",
   "execution_count": 42,
   "metadata": {},
   "outputs": [
    {
     "name": "stdout",
     "output_type": "stream",
     "text": [
      "1\n",
      "1.0\n"
     ]
    }
   ],
   "source": [
    "a5 = '1'\n",
    "b5 = int(a)\n",
    "print(b5)\n",
    "c5 = float(a5)\n",
    "print(c5)"
   ]
  },
  {
   "cell_type": "markdown",
   "metadata": {},
   "source": [
    "Tidak bisa memasukkan date yang bertipe string ke dalam fungsi float karena akan error. begitu juga dengan fungsi int. "
   ]
  },
  {
   "cell_type": "code",
   "execution_count": 53,
   "metadata": {},
   "outputs": [
    {
     "name": "stdout",
     "output_type": "stream",
     "text": [
      "input yang anda masukkan bukan angka\n"
     ]
    }
   ],
   "source": [
    "try: \n",
    "    a6 = int(input(\"Masukkan angka: \"))\n",
    "except ValueError:\n",
    "    print(\"input yang anda masukkan bukan angka\")"
   ]
  },
  {
   "cell_type": "markdown",
   "metadata": {},
   "source": [
    "### cara mengatasi ValueError dengan try except. \n",
    "Jadi ketika user salah memasukkan tipe data kita dapat menggunakan try except fitur untuk menangani error. hal ini berfungsi sebagai alternatif bagi user yang menginputkan tipe data yang salah. \n",
    "\n",
    "*fun fact* aku juga baru tau ada fitur ini di python hehe wkwk. "
   ]
  },
  {
   "cell_type": "code",
   "execution_count": 55,
   "metadata": {},
   "outputs": [
    {
     "name": "stdout",
     "output_type": "stream",
     "text": [
      "False\n",
      "False\n"
     ]
    }
   ],
   "source": [
    "#cara menguji suatu niai itu bialngan bulat adalah dengan fungsi isinstance()\n",
    "a7 = 1.1\n",
    "print(isinstance(a7, int))\n",
    "\n",
    "#atau bisa juga menggunakan is_integer()\n",
    "print(a7.is_integer())"
   ]
  }
 ],
 "metadata": {
  "kernelspec": {
   "display_name": "Python 3.10.4 64-bit",
   "language": "python",
   "name": "python3"
  },
  "language_info": {
   "codemirror_mode": {
    "name": "ipython",
    "version": 3
   },
   "file_extension": ".py",
   "mimetype": "text/x-python",
   "name": "python",
   "nbconvert_exporter": "python",
   "pygments_lexer": "ipython3",
   "version": "3.10.4"
  },
  "orig_nbformat": 4,
  "vscode": {
   "interpreter": {
    "hash": "4f946df053fbf2b937619d3c5458e7af74262f9a954d8797ba0b27400bcafe06"
   }
  }
 },
 "nbformat": 4,
 "nbformat_minor": 2
}
