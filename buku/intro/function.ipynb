{
 "cells": [
  {
   "cell_type": "markdown",
   "metadata": {},
   "source": [
    "# Function \n",
    "### Pengenalan \n",
    "sama seperti di matematika, fungsi adalah sebuah kumpulan kode yang dapat menghasilkan suatu nilai. fungsi bisa butuh input (parameter) dan output (return value). sama seperti pada contol flow dan loop. blok kode dalam fungsi bersifat local. dan fungsi setelah diinisiasi bisa dipanggil di dalam blok kode lain, atau bahkan di dalam kode itu sendiri. "
   ]
  },
  {
   "cell_type": "code",
   "execution_count": 1,
   "metadata": {},
   "outputs": [
    {
     "name": "stdout",
     "output_type": "stream",
     "text": [
      "Hello World\n"
     ]
    }
   ],
   "source": [
    "def hello():\n",
    "    print(\"Hello World\")\n",
    "hello()"
   ]
  },
  {
   "cell_type": "markdown",
   "metadata": {},
   "source": [
    "fungsi diatas merupakan contoh sederhana suatu funsi dalam python, fungsi diatas tidak memiliki argument.  "
   ]
  },
  {
   "cell_type": "markdown",
   "metadata": {},
   "source": [
    "### Mendeklarasikan Fungsi\n"
   ]
  },
  {
   "cell_type": "code",
   "execution_count": 7,
   "metadata": {},
   "outputs": [
    {
     "name": "stdout",
     "output_type": "stream",
     "text": [
      "mr\n"
     ]
    },
    {
     "data": {
      "text/plain": [
       "'Anda masih muda'"
      ]
     },
     "execution_count": 7,
     "metadata": {},
     "output_type": "execute_result"
    }
   ],
   "source": [
    "def nama_fungsi(argument, umur): \n",
    "    print(argument)\n",
    "    if int(umur) < 20: \n",
    "        return \"Anda masih muda\"\n",
    "nama_fungsi(input(\"Masukkan nama: \"), input(\"Masukkan umur: \"))"
   ]
  },
  {
   "cell_type": "markdown",
   "metadata": {},
   "source": [
    "mari kita breakdown kode diatas: \n",
    "- def merupakan reserved word yang digunakan untuk deklarasi fungsi.\n",
    "- \"nama_fungsi\" adalah nama yang akan diberikan kepada fungsi.\n",
    "- \"argument, umur\" merupakan argument/parameter/input yang akan diproses oleh fungsi\n",
    "- blok kode yang di dalam fungsi merupakan aksi yang akan dijalankan ketika fungsi dipanggil. \n",
    "- return merupakan keyword yang digunakan untuk mengembalikan nilai dari fungsi.\n",
    "- \"nama_fungsi(input(\"Masukkan nama: \"), input(\"Masukkan umur: \"))\" adalah pemanggilan fungsi beserta input yang akan dijalankan. input() itu sendiri sebenarnya juga fungsi yang built-in di Python. \n"
   ]
  },
  {
   "cell_type": "markdown",
   "metadata": {},
   "source": [
    "### Argument "
   ]
  },
  {
   "cell_type": "code",
   "execution_count": null,
   "metadata": {},
   "outputs": [],
   "source": [
    "# Your code below:\n",
    "def generate_trip_instructions(location):\n",
    "  print(\"Looks like you are planning a trip to visit\"+ location)\n",
    "  print(\"You can use the public subway system to get to\" + location )\n",
    "generate_trip_instructions(\"Grand Central Station\")\n"
   ]
  },
  {
   "cell_type": "markdown",
   "metadata": {},
   "source": [
    "### multiple argument function. "
   ]
  },
  {
   "cell_type": "code",
   "execution_count": null,
   "metadata": {},
   "outputs": [],
   "source": [
    "# Write your code below: \n",
    "def calculate_expenses(plane_ticket_price, car_rental_rate, hotel_rate, trip_time):\n",
    "  car_rental_total = car_rental_rate * trip_time \n",
    "  hotel_total = hotel_rate * trip_time -10\n",
    "  print(car_rental_total + hotel_total + plane_ticket_price)\n",
    "calculate_expenses(200, 100, 100, 5)"
   ]
  },
  {
   "cell_type": "markdown",
   "metadata": {},
   "source": [
    "### tipe argument\n",
    "ada tiga macam argument yang bisa kita pakai pada fungsi yaitu: \n",
    "- posisional argument: argument yang bisa dipanggil dengan posisinya pada saat fungsi didefinisikan. \n",
    "- keyword argument: argument yang bisa dipanggil dengan nama yang sama seperti nama variabel.\n",
    "- default argument: argument yang bisa dipanggil dengan nama yang sama seperti nama variabel. dan nilai default yang akan diisi jika tidak ada input.\n"
   ]
  },
  {
   "cell_type": "markdown",
   "metadata": {},
   "source": [
    "#### Positional Argument\n",
    "posisitional argument adalah argument yang bisa dipanggil dengan posisinya pada saat fungsi didefinisikan. tipe argument ini biasanya dipakai untuk fungsi sederhana. \n",
    "#### keyword argument\n",
    "keyword argument adalah argument yang bisa dipanggil dengan nama yang sama seperti nama variabel. tipe argument ini biasanya dipakai untuk fungsi yang lebih kompleks."
   ]
  },
  {
   "cell_type": "code",
   "execution_count": 8,
   "metadata": {},
   "outputs": [
    {
     "name": "stdout",
     "output_type": "stream",
     "text": [
      "40.0\n"
     ]
    }
   ],
   "source": [
    "def calculate_taxi_price(miles_to_travel, rate, discount):\n",
    "  print(miles_to_travel * rate - discount )\n",
    "calculate_taxi_price(rate=0.5, discount=10, miles_to_travel=100)"
   ]
  },
  {
   "cell_type": "markdown",
   "metadata": {},
   "source": [
    "#### Default Argument\n",
    "terakhir, terkadang kita ingin menjadikan suatu nilai dari argument itu sudah ada alias nilai default. untuk itulah tipe argument ini dipakai. cara menggunakannya adalah dengan menggunakan tanda \"=\" pendefinisian fungsi. "
   ]
  },
  {
   "cell_type": "code",
   "execution_count": 9,
   "metadata": {},
   "outputs": [
    {
     "name": "stdout",
     "output_type": "stream",
     "text": [
      "40.0\n"
     ]
    }
   ],
   "source": [
    "def calculate_taxi_price(miles_to_travel, rate, discount = 10):\n",
    "  print(miles_to_travel * rate - discount )\n",
    "calculate_taxi_price(miles_to_travel=100, rate=0.5)"
   ]
  },
  {
   "cell_type": "markdown",
   "metadata": {},
   "source": [
    "pada contoh diatas kita tidak perlu menuliskan nilai argument discount, hal ini bisa terjadi karena kita menggunakan default argument, sehingga argument ketiga menajadi optional. "
   ]
  },
  {
   "cell_type": "code",
   "execution_count": 10,
   "metadata": {},
   "outputs": [
    {
     "name": "stdout",
     "output_type": "stream",
     "text": [
      "Here is what your trip will look like!\n",
      "First, we will stop in France, then Germany, and lastly Denmark\n",
      "Here is what your trip will look like!\n",
      "First, we will stop in denmark, then france, and lastly germany\n"
     ]
    }
   ],
   "source": [
    "# Write your code below:\n",
    "def trip_planner(first_destination, second_destination, final_destination= \"Codecademy HQ\"):\n",
    "  print(\"Here is what your trip will look like!\")\n",
    "  print(\"First, we will stop in \" + first_destination +\", then \" + second_destination+ \", and lastly \" + final_destination)\n",
    "trip_planner(\"France\", \"Germany\", \"Denmark\")\n",
    "trip_planner(\"Denmark\", \"France\", \"Germany\")\n",
    "trip_planner(first_destination=\"Iceland\", second_destination=\"India\", final_destination=\"Germany\")\n",
    "trip_planner(\"Brooklyn\", \"Queens\")"
   ]
  },
  {
   "cell_type": "markdown",
   "metadata": {},
   "source": [
    "### Built-in Functions vs User Defined Functions\n",
    "Di Python, kita bisa membuat fungsi sendiri. namun, Bahasa Pemrograman Python memiliki fungsi yang sudah ada. istilahnya built-in function. print() adalah built-in function. len() juga build in function. yang kita pelajari di laman ini adalah user defined function, yaitu fungsi yang bisa kita buat sendiri. bukankah itu hal yang menakjubkan, kita bisa ekstensi bahasa python dengan menggunakan fungsi sendiri. begitu juga dengan library dan module. tapi itu akan kita plajari nanti. "
   ]
  },
  {
   "cell_type": "code",
   "execution_count": null,
   "metadata": {},
   "outputs": [],
   "source": [
    "tshirt_price = 9.75\n",
    "shorts_price = 15.50\n",
    "mug_price = 5.99\n",
    "poster_price = 2.00\n",
    "\n",
    "# Write your code below:\n",
    "\n",
    "# Checkpoint 1\n",
    "max_price = max(tshirt_price, shorts_price, mug_price, poster_price)\n",
    "print(max_price)\n",
    "\n",
    "# Checkpoint 2\n",
    "min_price = min(tshirt_price, shorts_price, mug_price, poster_price)\n",
    "print(min_price)\n",
    "\n",
    "# Checkpoint 3\n",
    "rounded_price = round(tshirt_price, 1)\n",
    "print(rounded_price)"
   ]
  },
  {
   "cell_type": "markdown",
   "metadata": {},
   "source": [
    "#### Variable accessible inside a function\n"
   ]
  }
 ],
 "metadata": {
  "kernelspec": {
   "display_name": "Python 3.10.4 64-bit",
   "language": "python",
   "name": "python3"
  },
  "language_info": {
   "codemirror_mode": {
    "name": "ipython",
    "version": 3
   },
   "file_extension": ".py",
   "mimetype": "text/x-python",
   "name": "python",
   "nbconvert_exporter": "python",
   "pygments_lexer": "ipython3",
   "version": "3.10.4"
  },
  "orig_nbformat": 4,
  "vscode": {
   "interpreter": {
    "hash": "4f946df053fbf2b937619d3c5458e7af74262f9a954d8797ba0b27400bcafe06"
   }
  }
 },
 "nbformat": 4,
 "nbformat_minor": 2
}
