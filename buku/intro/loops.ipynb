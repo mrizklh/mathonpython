{
 "cells": [
  {
   "cell_type": "markdown",
   "metadata": {},
   "source": [
    "# Loops \n",
    "seringkali kita melakukan pengulangan suatu kode, padahal pada Python ada fitur yang bisa kita gunakan untuk melakukan pengulangan. yaitu for loop, while loop, dan for each loop. sebagai contoh dibawah ini:  "
   ]
  },
  {
   "cell_type": "code",
   "execution_count": null,
   "metadata": {},
   "outputs": [],
   "source": [
    "print(\"This can be so much easier with loops!\")\n",
    "print(\"This can be so much easier with loops!\")\n",
    "print(\"This can be so much easier with loops!\")\n",
    "print(\"This can be so much easier with loops!\")\n",
    "print(\"This can be so much easier with loops!\")\n",
    "print(\"This can be so much easier with loops!\")\n",
    "print(\"This can be so much easier with loops!\")\n",
    "print(\"This can be so much easier with loops!\")\n",
    "print(\"This can be so much easier with loops!\")\n",
    "print(\"This can be so much easier with loops!\")"
   ]
  },
  {
   "cell_type": "markdown",
   "metadata": {},
   "source": [
    "kita bisa menggunakan cara yang lebih efisien untuk melakukan pengulangan. yaitu dengan menggunakan looping."
   ]
  },
  {
   "cell_type": "code",
   "execution_count": 2,
   "metadata": {},
   "outputs": [
    {
     "name": "stdout",
     "output_type": "stream",
     "text": [
      "This can be so much easier with loops!\n",
      "This can be so much easier with loops!\n",
      "This can be so much easier with loops!\n",
      "This can be so much easier with loops!\n",
      "This can be so much easier with loops!\n",
      "This can be so much easier with loops!\n",
      "This can be so much easier with loops!\n",
      "This can be so much easier with loops!\n",
      "This can be so much easier with loops!\n",
      "This can be so much easier with loops!\n"
     ]
    }
   ],
   "source": [
    "for i in range(10):\n",
    "    print(\"This can be so much easier with loops!\")"
   ]
  },
  {
   "cell_type": "markdown",
   "metadata": {},
   "source": [
    "seperti yang anda lihat di atas alih alih kita menulis 10 baris kode kini kita hanya butuh dua barus kode, dengan output yang sama. "
   ]
  },
  {
   "cell_type": "markdown",
   "metadata": {},
   "source": [
    "## for loop: sebuah pengenalan. "
   ]
  },
  {
   "cell_type": "code",
   "execution_count": null,
   "metadata": {},
   "outputs": [],
   "source": [
    "board_games = [\"Settlers of Catan\", \"Carcassone\", \"Power Grid\", \"Agricola\", \"Scrabble\"]\n",
    "\n",
    "sport_games = [\"football\", \"hockey\", \"baseball\", \"cricket\"]\n",
    "\n",
    "for game in board_games:\n",
    "  print(game) \n",
    "\n",
    "for i in sport_games: \n",
    "  print(i)"
   ]
  },
  {
   "cell_type": "markdown",
   "metadata": {},
   "source": [
    "pada contoh diatas menunjukkan bagaimana penggunaan for loop bisa emudahkan kita untuk melakukan pengulangan. adapun cara mendeklarasikan for loop adalah dengan menuliskan kode seperti ini:\n",
    "1. \"for\" digunakan sebagai reversed word yang menandakan awal dari suatu for loop. \n",
    "2. \"i\" dan \"game\" adalah variabel yang akan digunakan untuk mengisi nilai dari for loop. variable sementara ini bisa apa saja asalkan tidak reserved word. variable ini bisa digunakan di dalam block kode yang ada di dalam for loop.\n",
    "3. \"in\" digunakan untuk memisahkan elemen dari list menjadi item tiap iterasinya. \n",
    "4. \"sport_games\" dan \"board_games\" adalah list yang akan digunakan untuk mengisi nilai dari for loop.\n",
    "5. \":\" digunakan untuk menandakan bahwa for loop akan dijalankan.\n",
    "6. aksi. aksi yang dimaksud di sini adalah blok kode yang ada didalam for loop. \n"
   ]
  },
  {
   "cell_type": "markdown",
   "metadata": {},
   "source": [
    "### for loop using range \n",
    "kadang kala kita tidak ingin menulis kode yang sama untuk setiap iterasi, kita bisa menggunakan range. bedanya dengan for loop pada list adalah range akan mengisi nilai dari 0 sampai dengan batas yang ditentukan. tidak perlu menginisiasi list karena range akan mengisi nilai dari 0 sampai dengan batas yang ditentukan. \n"
   ]
  },
  {
   "cell_type": "code",
   "execution_count": null,
   "metadata": {
    "vscode": {
     "languageId": "markdown"
    }
   },
   "outputs": [],
   "source": [
    "promise = \"I will finish the python loops module!\"\n",
    "for i in range(5):\n",
    "  print(promise)"
   ]
  },
  {
   "cell_type": "markdown",
   "metadata": {},
   "source": [
    "## While loop: sebuah pengenalan."
   ]
  },
  {
   "cell_type": "code",
   "execution_count": null,
   "metadata": {
    "vscode": {
     "languageId": "markdown"
    }
   },
   "outputs": [],
   "source": [
    "count = 0\n",
    "while count <= 3:\n",
    "  # Loop Body\n",
    "  print(count)\n",
    "  count += 1"
   ]
  },
  {
   "cell_type": "markdown",
   "metadata": {},
   "source": [
    "mari kita breakdown kode diatas: \n",
    "1. count adalah variable yang akan digunakan untuk mengisi nilai dari while loop.\n",
    "2. while merupakan reserved word yang menandakan awal dari suatu while loop.\n",
    "3. \"count <= 3\" merupakan suatu kondisi yang akan dijalankan selama kondisi ini terpenuhi. \n",
    "4. \"print(count)\" merupakan kode yang akan dieksekusi selama kondisi pada poin 3 terpenuhi. \n",
    "5. \"count+=1\" sama dengan menambahkan nilai 1 pada variable count. hal ini digunakan agar while loop tidak terjebak dalam infinite iterasi. \n"
   ]
  },
  {
   "cell_type": "code",
   "execution_count": null,
   "metadata": {
    "vscode": {
     "languageId": "markdown"
    }
   },
   "outputs": [],
   "source": [
    "python_topics = [\"variables\", \"control flow\", \"loops\", \"modules\", \"classes\"]\n",
    "\n",
    "#Your code below: \n",
    "length = len(python_topics)\n",
    "index = 0 \n",
    "while index < length: \n",
    "  print(python_topics[index])\n",
    "  index += 1 \n"
   ]
  },
  {
   "cell_type": "code",
   "execution_count": null,
   "metadata": {},
   "outputs": [],
   "source": [
    "python_topics = [\"variables\", \"control flow\", \"loops\", \"modules\", \"classes\"]\n",
    "\n",
    "#Your code below: \n",
    "length = len(python_topics)\n",
    "index = 0 \n",
    "while index < length: \n",
    "  print(\"I am learning about \"+python_topics[index])\n",
    "  index += 1 "
   ]
  },
  {
   "cell_type": "markdown",
   "metadata": {},
   "source": [
    "### Infinite Loop: warning, keadaan ini akan mengakibatkan program terjebak dan komputer anda crash. \n",
    "infinite loop terjadi ketika loop tidak memiliki kondisi yang menghentikanya. hal ini mengakibatkan penuhnya memory dan cpu akan bekerja keras. sering kali infinite loop akan membuat program kita crash. pastikan kode anda tidak mengandung infinite loop. \n"
   ]
  },
  {
   "cell_type": "code",
   "execution_count": null,
   "metadata": {},
   "outputs": [],
   "source": [
    "students_period_A = [\"Alex\", \"Briana\", \"Cheri\", \"Daniele\"]\n",
    "students_period_B = [\"Dora\", \"Minerva\", \"Alexa\", \"Obie\"]\n",
    "\n",
    "# for student in students_period_A:\n",
    "#   students_period_A.append(student)\n",
    "#   print(student)"
   ]
  },
  {
   "cell_type": "markdown",
   "metadata": {},
   "source": [
    "kode diatas merupakan kode yang mengandung infinite loop hari ini karena tiap kali kode pada blok for dijalankan akan menambahkan jumlah iterasi pada keseluruhan cell. hal ini menyebabkan infinite loop. saya beri tanda komen agar tidak terkompilasi saat \"jupyter-book build\" dijalankan.  "
   ]
  },
  {
   "cell_type": "markdown",
   "metadata": {},
   "source": [
    "### cara menggabungkan 2 list dengan menggunakan for loop. "
   ]
  },
  {
   "cell_type": "code",
   "execution_count": null,
   "metadata": {},
   "outputs": [],
   "source": [
    "students_period_A = [\"Alex\", \"Briana\", \"Cheri\", \"Daniele\"]\n",
    "students_period_B = [\"Dora\", \"Minerva\", \"Alexa\", \"Obie\"]\n",
    "\n",
    "for student in students_period_A:\n",
    "  students_period_B.append(student)\n",
    "print(students_period_B)"
   ]
  },
  {
   "cell_type": "markdown",
   "metadata": {},
   "source": [
    "### Loop Control: Break \n",
    "sering kali kita tidak perlu mengiterasi seluruh koleksi (list, tuple) untuk mencari suatu nilai tertentu. kita bisa menggunakan break untuk menghentikan iterasi. break berguna untuk menghentikan iterasi. ketika kondisi pada break terpenuhi. maka akan berhenti dari iterasi. "
   ]
  },
  {
   "cell_type": "code",
   "execution_count": null,
   "metadata": {},
   "outputs": [],
   "source": [
    "dog_breeds_available_for_adoption = [\"french_bulldog\", \"dalmatian\", \"shihtzu\", \"poodle\", \"collie\"]\n",
    "dog_breed_I_want = \"dalmatian\"\n",
    "\n",
    "for dog_breed in dog_breeds_available_for_adoption:\n",
    "  print(dog_breed)\n",
    "  if dog_breed == dog_breed_I_want:\n",
    "    print(\"They have the dog I want!\")\n",
    "    break"
   ]
  },
  {
   "cell_type": "markdown",
   "metadata": {},
   "source": [
    "### Loop Control: Continue \n",
    "continue berguna untuk melanjutkan iterasi. ketika kondisi pada continue terpenuhi, maka akan melanjutkan iterasi. dalam artian, kondisi yang terpenuhi oleh continue akan diabaikan. "
   ]
  },
  {
   "cell_type": "code",
   "execution_count": null,
   "metadata": {},
   "outputs": [],
   "source": [
    "big_number_list = [1, 2, -1, 4, -5, 5, 2, -9]\n",
    "for i in big_number_list:\n",
    "  if i <= 0:\n",
    "    continue\n",
    "  print(i)\n"
   ]
  },
  {
   "cell_type": "markdown",
   "metadata": {},
   "source": [
    "seperti yang anda duga bilangan negatif akan diabaikan, karena kita set kondisi untuk continue itu \" 1 <= 0\". "
   ]
  },
  {
   "cell_type": "markdown",
   "metadata": {},
   "source": [
    "##### perhatikan hal berikut: \n",
    "sama dengan break, continue biasanya berpasangan dengan control flow seperti if, elif dan else. \n",
    " "
   ]
  },
  {
   "cell_type": "code",
   "execution_count": null,
   "metadata": {},
   "outputs": [],
   "source": [
    "ages = [12, 38, 34, 26, 21, 19, 67, 41, 17]\n",
    "\n",
    "for i in ages: \n",
    "  if i < 21: \n",
    "    continue \n",
    "  print(i)"
   ]
  },
  {
   "cell_type": "markdown",
   "metadata": {},
   "source": [
    "### nested Loop \n",
    "\n"
   ]
  },
  {
   "cell_type": "code",
   "execution_count": null,
   "metadata": {},
   "outputs": [],
   "source": [
    "sales_data = [[12, 17, 22], [2, 10, 3], [5, 12, 13]]\n",
    "scoops_sold = 0\n",
    "\n",
    "for location in sales_data: \n",
    "  print(location)\n",
    "  for i in location: \n",
    "    scoops_sold += i\n",
    "print(scoops_sold)\n"
   ]
  },
  {
   "cell_type": "markdown",
   "metadata": {},
   "source": [
    "### list comprehension \n",
    "\n",
    "Alih-alih menulis kode seperti dibawah ini:     "
   ]
  },
  {
   "cell_type": "code",
   "execution_count": null,
   "metadata": {},
   "outputs": [],
   "source": [
    "numbers = [2, -1, 79, 33, -45]\n",
    "doubled = []\n",
    " \n",
    "for number in numbers:\n",
    "  doubled.append(number * 2)\n",
    " \n",
    "print(doubled)"
   ]
  },
  {
   "cell_type": "markdown",
   "metadata": {},
   "source": [
    "kita bisa menulis variable double dengan list comprehension yaitu seerti ini: "
   ]
  },
  {
   "cell_type": "code",
   "execution_count": 2,
   "metadata": {},
   "outputs": [
    {
     "name": "stdout",
     "output_type": "stream",
     "text": [
      "[4, -2, 158, 66, -90]\n"
     ]
    }
   ],
   "source": [
    "numbers = [2, -1, 79, 33, -45]\n",
    "doubled = [num * 2 for num in numbers]\n",
    "print(doubled)"
   ]
  },
  {
   "cell_type": "code",
   "execution_count": null,
   "metadata": {},
   "outputs": [],
   "source": [
    "new_list = [<expression> for <element> in <collection>]"
   ]
  },
  {
   "cell_type": "markdown",
   "metadata": {},
   "source": [
    "mari kita breakdown bagaimana menggunakan list comprehension: \n",
    "1. inisiasi temporary variable yang meruapakan item dari list.\n",
    "3. for adalah loop untuk element dari koleksi. \n",
    "3. element adalah item dari koleksi.\n",
    "4. in menunjukkan bahwa item berada dalam koleksi.\n",
    "5. kelekukan adalah adalah kumpulan data struktur yang akan di iterasi. "
   ]
  },
  {
   "cell_type": "code",
   "execution_count": null,
   "metadata": {},
   "outputs": [],
   "source": [
    "grades = [90, 88, 62, 76, 74, 89, 48, 57]\n",
    "scaled_grades = [num + 10 for num in grades]\n",
    "print(scaled_grades)"
   ]
  },
  {
   "cell_type": "markdown",
   "metadata": {},
   "source": [
    "#### list comprehension using condition. \n"
   ]
  },
  {
   "cell_type": "code",
   "execution_count": 10,
   "metadata": {},
   "outputs": [
    {
     "name": "stdout",
     "output_type": "stream",
     "text": [
      "[8, 9, 14, 15, 16, 19, 20, 21, 23, 24, 26, 27, 28, 29, 31, 34, 39, 43, 44, 45, 47, 49, 50, 53, 57, 60, 61, 63, 64, 69, 70, 72, 73, 74, 75, 78, 80, 81, 84, 85, 86, 87, 88, 89, 91, 93, 95, 98]\n"
     ]
    }
   ],
   "source": [
    "import random \n",
    "\n",
    "a = [x for x in range(100) if random.randint(0, 1) == 0]\n",
    "print(a)"
   ]
  },
  {
   "cell_type": "markdown",
   "metadata": {},
   "source": [
    "sekarang kita telah mendapatkan list dari angka ganjil dan genap dari 1 sampai 100. abaikan dulu apa itu random dalam python. intinya random itu memunculkan angka acak dari 0 sampai 100 secara acak. jika angka random = 1 maka hasil dari range akan diabaikan. sekarang bagaimana caranya kita bisa menjadikan list a menjadi list dari bilangan genap.  "
   ]
  },
  {
   "cell_type": "code",
   "execution_count": 14,
   "metadata": {},
   "outputs": [
    {
     "name": "stdout",
     "output_type": "stream",
     "text": [
      "[18, 30, 38, 42, 46, 54, 58, 62, 78, 86, 90, 94, 98, 106, 114, 122, 126, 138, 146, 150, 162, 170, 174, 178, 182, 186, 190]\n"
     ]
    }
   ],
   "source": [
    "# b adalan list dari bilangan genap dengan mengalikan 2 bilangan ganjil pada list a. \n",
    "b = [z*2  for z in a if z % 2 == 1] \n",
    "print(b)"
   ]
  },
  {
   "cell_type": "markdown",
   "metadata": {},
   "source": [
    "mari kita breakdown lagi kode diatas:\n",
    "1. [] adalah inisiasi dari list comprehension \n",
    "2. z*2 merupakan expresi yang akan dijalankan \n",
    "3. for adalah looping untuk element dari koleksi.\n",
    "4. in menunjukkan bahwa item berada dalam koleksi.\n",
    "5. if adalah kondisi yang membatasi for loop.\n",
    "6. \" z % 2 == 0\" merupakan kondisi yang akan dijalankan. "
   ]
  },
  {
   "cell_type": "markdown",
   "metadata": {},
   "source": [
    "kode diatas adalah list comprehension yang mengambil list a dan menjadikan bilangan ganjil pada list a menjadi list dari bilangan genap. selanjutnya kita akan mengantikan bilangan ganjil di list a dengan bilangan genap."
   ]
  },
  {
   "cell_type": "code",
   "execution_count": 12,
   "metadata": {},
   "outputs": [
    {
     "name": "stdout",
     "output_type": "stream",
     "text": [
      "[18, 30, 38, 42, 46, 54, 58, 62, 78, 86, 90, 94, 98, 106, 114, 122, 126, 138, 146, 150, 162, 170, 174, 178, 182, 186, 190, 16, 28, 32, 40, 48, 52, 56, 68, 88, 100, 120, 128, 140, 144, 148, 156, 160, 168, 172, 176, 196]\n"
     ]
    }
   ],
   "source": [
    "for i in a: \n",
    "  if i % 2 == 0: \n",
    "    b.append(i * 2)\n",
    "print(b)"
   ]
  },
  {
   "cell_type": "markdown",
   "metadata": {},
   "source": [
    "untuk mengecek apakah masih ada bilangan genap pada list a kita bisa menggunakan loop. "
   ]
  },
  {
   "cell_type": "code",
   "execution_count": 16,
   "metadata": {},
   "outputs": [
    {
     "name": "stdout",
     "output_type": "stream",
     "text": [
      "bilangan ganjil tidak ditemukan\n"
     ]
    }
   ],
   "source": [
    "for i in a: \n",
    "    if i % 2 == 1: \n",
    "        break \n",
    "        print(\"bilangan ganjil ditemmukan\")\n",
    "    else: \n",
    "        print(\"bilangan ganjil tidak ditemukan\")"
   ]
  },
  {
   "cell_type": "code",
   "execution_count": null,
   "metadata": {},
   "outputs": [],
   "source": [
    "heights = [161, 164, 156, 144, 158, 170, 163, 163, 157]\n",
    "can_ride_coaster = [x for x in heights if x > 161]\n",
    "print(can_ride_coaster)\n",
    "# dari codeacademy"
   ]
  },
  {
   "cell_type": "markdown",
   "metadata": {},
   "source": [
    "## Review Loop \n",
    "dari laman ini kita belajar: \n",
    "- cara menulis for loop\n",
    "- menggunakan range pada for loop \n",
    "- cara menulis while loop\n",
    "- apa itu infinite loop dan bagaimana cara untuk menghentikan infinite loop.\n",
    "- menggunakan break dan continue.\n",
    "- bagaimana list comprehension bekerja."
   ]
  },
  {
   "cell_type": "code",
   "execution_count": 18,
   "metadata": {},
   "outputs": [
    {
     "name": "stdout",
     "output_type": "stream",
     "text": [
      "[0, 1, 4, 9, 16, 25, 36, 49, 64, 81]\n"
     ]
    }
   ],
   "source": [
    "# Your code below:\n",
    "single_digits = [a for a in range(10)]\n",
    "squares = []\n",
    "for a in single_digits: \n",
    "  squares.append(a**2)\n",
    "print(squares)\n",
    "cubes = [i**3 for i in single_digits ]\n",
    "print(cubes)\n",
    "\n",
    "## solution for codeacademy loop review. \n",
    "  "
   ]
  },
  {
   "cell_type": "markdown",
   "metadata": {},
   "source": [
    "### controling loop \n",
    "#### break \n",
    "break berguna untuk menghentikan iterasi. ketika kondisi pada break terpenuhi. maka akan berhenti dari iterasi."
   ]
  },
  {
   "cell_type": "code",
   "execution_count": 1,
   "metadata": {},
   "outputs": [
    {
     "name": "stdout",
     "output_type": "stream",
     "text": [
      "0\n",
      "1\n",
      "2\n",
      "3\n"
     ]
    }
   ],
   "source": [
    "for i in range(10):\n",
    "    print(i)\n",
    "    if i == 3:  \n",
    "        break"
   ]
  },
  {
   "cell_type": "code",
   "execution_count": 2,
   "metadata": {},
   "outputs": [
    {
     "ename": "TypeError",
     "evalue": "isinstance() arg 2 must be a type, a tuple of types, or a union",
     "output_type": "error",
     "traceback": [
      "\u001b[0;31m---------------------------------------------------------------------------\u001b[0m",
      "\u001b[0;31mTypeError\u001b[0m                                 Traceback (most recent call last)",
      "\u001b[1;32m/workspaces/mathonpython/buku/intro/loops.ipynb Cell 51\u001b[0m in \u001b[0;36m<cell line: 1>\u001b[0;34m()\u001b[0m\n\u001b[0;32m----> <a href='vscode-notebook-cell://codespaces%2Bmrizklh-mathonpython-69gpqv7v6hrjj7/workspaces/mathonpython/buku/intro/loops.ipynb#ch0000051vscode-remote?line=0'>1</a>\u001b[0m a \u001b[39m=\u001b[39m \u001b[39misinstance\u001b[39;49m(\u001b[39mstr\u001b[39;49m, \u001b[39m\"\u001b[39;49m\u001b[39maa\u001b[39;49m\u001b[39m\"\u001b[39;49m)\n\u001b[1;32m      <a href='vscode-notebook-cell://codespaces%2Bmrizklh-mathonpython-69gpqv7v6hrjj7/workspaces/mathonpython/buku/intro/loops.ipynb#ch0000051vscode-remote?line=2'>3</a>\u001b[0m \u001b[39mprint\u001b[39m(a)\n",
      "\u001b[0;31mTypeError\u001b[0m: isinstance() arg 2 must be a type, a tuple of types, or a union"
     ]
    }
   ],
   "source": [
    "a = isinstance(str, \"aa\")\n",
    "\n",
    "print(a) "
   ]
  }
 ],
 "metadata": {
  "kernelspec": {
   "display_name": "Python 3.10.4 64-bit",
   "language": "python",
   "name": "python3"
  },
  "language_info": {
   "codemirror_mode": {
    "name": "ipython",
    "version": 3
   },
   "file_extension": ".py",
   "mimetype": "text/x-python",
   "name": "python",
   "nbconvert_exporter": "python",
   "pygments_lexer": "ipython3",
   "version": "3.10.4"
  },
  "orig_nbformat": 4,
  "vscode": {
   "interpreter": {
    "hash": "4f946df053fbf2b937619d3c5458e7af74262f9a954d8797ba0b27400bcafe06"
   }
  }
 },
 "nbformat": 4,
 "nbformat_minor": 2
}
