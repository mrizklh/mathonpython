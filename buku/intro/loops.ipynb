{
 "cells": [
  {
   "cell_type": "markdown",
   "metadata": {},
   "source": [
    "# Loops \n",
    "seringkali kita melakukan pengulangan suatu kode, padahal pada Python ada fitur yang bisa kita gunakan untuk melakukan pengulangan. yaitu for loop, while loop, dan for each loop. sebagai contoh dibawah ini:  "
   ]
  },
  {
   "cell_type": "code",
   "execution_count": null,
   "metadata": {},
   "outputs": [],
   "source": [
    "print(\"This can be so much easier with loops!\")\n",
    "print(\"This can be so much easier with loops!\")\n",
    "print(\"This can be so much easier with loops!\")\n",
    "print(\"This can be so much easier with loops!\")\n",
    "print(\"This can be so much easier with loops!\")\n",
    "print(\"This can be so much easier with loops!\")\n",
    "print(\"This can be so much easier with loops!\")\n",
    "print(\"This can be so much easier with loops!\")\n",
    "print(\"This can be so much easier with loops!\")\n",
    "print(\"This can be so much easier with loops!\")"
   ]
  },
  {
   "cell_type": "markdown",
   "metadata": {},
   "source": [
    "kita bisa menggunakan cara yang lebih efisien untuk melakukan pengulangan. yaitu dengan menggunakan looping."
   ]
  },
  {
   "cell_type": "code",
   "execution_count": 2,
   "metadata": {},
   "outputs": [
    {
     "name": "stdout",
     "output_type": "stream",
     "text": [
      "This can be so much easier with loops!\n",
      "This can be so much easier with loops!\n",
      "This can be so much easier with loops!\n",
      "This can be so much easier with loops!\n",
      "This can be so much easier with loops!\n",
      "This can be so much easier with loops!\n",
      "This can be so much easier with loops!\n",
      "This can be so much easier with loops!\n",
      "This can be so much easier with loops!\n",
      "This can be so much easier with loops!\n"
     ]
    }
   ],
   "source": [
    "for i in range(10):\n",
    "    print(\"This can be so much easier with loops!\")"
   ]
  },
  {
   "cell_type": "markdown",
   "metadata": {},
   "source": [
    "seperti yang anda lihat di atas alih alih kita menulis 10 baris kode kini kita hanya butuh dua barus kode, dengan output yang sama. "
   ]
  },
  {
   "cell_type": "markdown",
   "metadata": {},
   "source": [
    "## for loop: sebuah pengenalan. "
   ]
  },
  {
   "cell_type": "code",
   "execution_count": null,
   "metadata": {},
   "outputs": [],
   "source": [
    "board_games = [\"Settlers of Catan\", \"Carcassone\", \"Power Grid\", \"Agricola\", \"Scrabble\"]\n",
    "\n",
    "sport_games = [\"football\", \"hockey\", \"baseball\", \"cricket\"]\n",
    "\n",
    "for game in board_games:\n",
    "  print(game) \n",
    "\n",
    "for i in sport_games: \n",
    "  print(i)"
   ]
  },
  {
   "cell_type": "markdown",
   "metadata": {},
   "source": [
    "pada contoh diatas menunjukkan bagaimana penggunaan for loop bisa emudahkan kita untuk melakukan pengulangan. adapun cara mendeklarasikan for loop adalah dengan menuliskan kode seperti ini:\n",
    "1. \"for\" digunakan sebagai reversed word yang menandakan awal dari suatu for loop. \n",
    "2. \"i\" dan \"game\" adalah variabel yang akan digunakan untuk mengisi nilai dari for loop. variable sementara ini bisa apa saja asalkan tidak reserved word. variable ini bisa digunakan di dalam block kode yang ada di dalam for loop.\n",
    "3. \"in\" digunakan untuk memisahkan elemen dari list menjadi item tiap iterasinya. \n",
    "4. \"sport_games\" dan \"board_games\" adalah list yang akan digunakan untuk mengisi nilai dari for loop.\n",
    "5. \":\" digunakan untuk menandakan bahwa for loop akan dijalankan.\n",
    "6. aksi. aksi yang dimaksud di sini adalah blok kode yang ada didalam for loop. \n"
   ]
  },
  {
   "cell_type": "code",
   "execution_count": null,
   "metadata": {},
   "outputs": [],
   "source": []
  }
 ],
 "metadata": {
  "kernelspec": {
   "display_name": "Python 3.10.4 64-bit",
   "language": "python",
   "name": "python3"
  },
  "language_info": {
   "codemirror_mode": {
    "name": "ipython",
    "version": 3
   },
   "file_extension": ".py",
   "mimetype": "text/x-python",
   "name": "python",
   "nbconvert_exporter": "python",
   "pygments_lexer": "ipython3",
   "version": "3.10.4"
  },
  "orig_nbformat": 4,
  "vscode": {
   "interpreter": {
    "hash": "4f946df053fbf2b937619d3c5458e7af74262f9a954d8797ba0b27400bcafe06"
   }
  }
 },
 "nbformat": 4,
 "nbformat_minor": 2
}
