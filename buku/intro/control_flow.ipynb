{
 "cells": [
  {
   "cell_type": "markdown",
   "metadata": {},
   "source": [
    "# control flow\n",
    "1.\n",
    "Determine if the following statements are boolean expressions or not. If they are, set the matching variable to the right to \"Yes\" and if not set the variable to \"No\". Here’s an example of what to do:\n",
    "\n",
    "Example statement:\n",
    "\n",
    "My dog is the cutest dog in the world.\n",
    "This is an opinion and not a boolean expression, so you would set example_statement to \"No\" in the editor to the right. Okay, now it’s your turn:\n",
    "\n",
    "Statement one:\n",
    "\n",
    "Dogs are mammals.\n",
    "Statement two:\n",
    "\n",
    "My dog is named Pavel.\n",
    "Statement three:\n",
    "\n",
    "Dogs make the best pets.\n",
    "Statement four:\n",
    "\n",
    "Cats are female dogs."
   ]
  },
  {
   "cell_type": "code",
   "execution_count": null,
   "metadata": {},
   "outputs": [],
   "source": [
    "example_statement = \"No\"\n",
    "\n",
    "statement_one =\"Yes\"\n",
    "\n",
    "statement_two =\"No\"\n",
    "\n",
    "statement_three =\"Yes\"\n",
    "\n",
    "statement_four =\"No\""
   ]
  },
  {
   "cell_type": "code",
   "execution_count": 5,
   "metadata": {},
   "outputs": [
    {
     "data": {
      "text/plain": [
       "True"
      ]
     },
     "execution_count": 5,
     "metadata": {},
     "output_type": "execute_result"
    }
   ],
   "source": [
    "#bool((5 * 2) - 1 == 8 + 1)\n",
    "#bool(13 - 6 != (3 * 2) + 1)\n",
    "bool(3 * (2 - 1) == 4 - 1)"
   ]
  },
  {
   "cell_type": "code",
   "execution_count": null,
   "metadata": {},
   "outputs": [],
   "source": [
    "# Enter a user name here, make sure to make it a string\n",
    "user_name = \"angela_catlady_87\"\n",
    "\n",
    "if user_name == \"Dave\":\n",
    "  print(\"Get off my computer Dave!\")\n",
    "if user_name == \"angela_catlady_87\":\n",
    "    print(\"I know it is you, Dave! Go away!\")\n",
    "\n"
   ]
  },
  {
   "cell_type": "code",
   "execution_count": null,
   "metadata": {},
   "outputs": [],
   "source": [
    "statement_one = (2 + 2 + 2 >= 6) and (-1 * -1 < 0)\n",
    "\n",
    "statement_two = (4 * 2 <= 8) and (7 - 1 == 6)\n",
    "\n",
    "credits = 120\n",
    "gpa = 3.4\n",
    "\n",
    "if credits >= 120 and gpa >= 2.0:\n",
    "  print(\"You meet the requirements to graduate!\")"
   ]
  },
  {
   "cell_type": "markdown",
   "metadata": {},
   "source": [
    "### Review \n",
    "\n",
    "Kali ini aku akan mereview kembali hasil pembelajaran kita pada kendali alir ini *control flow* ini. sebelum kendali alir kita tahu komputer bisa melakukan beberapa primitif operasi yaitu tambah, kurang, kali, bagi, dan modulus. \n",
    "\n",
    "Ekspresi boolean adalah sebuah kondisi yang menghasilkan nilai true (dengan True t huruf kapital) atau begitu juga dengan false false. suatu variable boolean adalah variable yang menyimpan nilai true or false. kita bisa membuat ekspresi boolean dengan operator: \n",
    "- \" and \" untuk dan \n",
    "- \" or \" untuk atau\n",
    "- \" not \" untuk negasi\n",
    "- \" == \" untuk sama dengan\n",
    "- \" != \" untuk tidak sama dengan\n",
    "- \" > \" untuk lebih besar dari\n",
    "- \" < \" untuk lebih kecil dari\n",
    "- \" >= \" untuk lebih besar sama dengan\n",
    "- \" <= \" untuk lebih kecil sama dengan\n",
    "- \" in \" untuk mengecek apakah ada di dalam sebuah list\n",
    "- \" not in \" untuk mengecek apakah tidak ada di dalam sebuah list\n",
    "- \" is \" untuk mengecek apakah ada di dalam sebuah objek\n",
    "- \" is not \" untuk mengecek apakah tidak ada di dalam sebuah objek\n",
    "\n",
    "https://www.w3schools.com/python/python_operators.asp\n",
    "\n",
    "### Pernyataan If, Else, dan Else If\n",
    "if digunakan ketika kita ingin mengecek apakah suatu kondisi terpenuhi atau tidak. jika kondisi terpunuhi maka blok kode akan dieksekusi. sedangakan untuk elif dieksekusi hanya jika kondisi if sebelumnya terpenuhi. jika tidak terpenuhi maka akan dieksekusi blok kode else. \n",
    " "
   ]
  },
  {
   "cell_type": "code",
   "execution_count": 5,
   "metadata": {},
   "outputs": [
    {
     "name": "stdout",
     "output_type": "stream",
     "text": [
      "True\n"
     ]
    }
   ],
   "source": [
    "print( (4 <= 2 * 3) and (7 + 1 == 8))"
   ]
  },
  {
   "cell_type": "markdown",
   "metadata": {},
   "source": [
    "### Error di Python Review \n",
    "\n",
    "jadi ada tiga macam error yang bisa terjadi di Python:\n",
    "- nameerror: adalah error yang menandakan bahwa sebuah nama yang kita gunakan tidak ada di dalam sebuah objek.\n",
    "- typeerror: adalah error yang menandakan bahwa sebuah operasi yang kita lakukan dengan objek yang salah.\n",
    "- syntaxerror: adalah error yang menandakan bahwa kode yang kita buat tidak benar.\n",
    "\n"
   ]
  },
  {
   "cell_type": "code",
   "execution_count": null,
   "metadata": {},
   "outputs": [],
   "source": [
    "#declare a int variable without assigning a value\n"
   ]
  }
 ],
 "metadata": {
  "kernelspec": {
   "display_name": "Python 3.10.4 64-bit",
   "language": "python",
   "name": "python3"
  },
  "language_info": {
   "codemirror_mode": {
    "name": "ipython",
    "version": 3
   },
   "file_extension": ".py",
   "mimetype": "text/x-python",
   "name": "python",
   "nbconvert_exporter": "python",
   "pygments_lexer": "ipython3",
   "version": "3.10.4"
  },
  "orig_nbformat": 4,
  "vscode": {
   "interpreter": {
    "hash": "4f946df053fbf2b937619d3c5458e7af74262f9a954d8797ba0b27400bcafe06"
   }
  }
 },
 "nbformat": 4,
 "nbformat_minor": 2
}
