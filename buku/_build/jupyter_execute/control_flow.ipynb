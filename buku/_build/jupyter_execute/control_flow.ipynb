{
 "cells": [
  {
   "cell_type": "markdown",
   "metadata": {},
   "source": [
    "## this is introdcution from code academy\n",
    "1.\n",
    "Determine if the following statements are boolean expressions or not. If they are, set the matching variable to the right to \"Yes\" and if not set the variable to \"No\". Here’s an example of what to do:\n",
    "\n",
    "Example statement:\n",
    "\n",
    "My dog is the cutest dog in the world.\n",
    "This is an opinion and not a boolean expression, so you would set example_statement to \"No\" in the editor to the right. Okay, now it’s your turn:\n",
    "\n",
    "Statement one:\n",
    "\n",
    "Dogs are mammals.\n",
    "Statement two:\n",
    "\n",
    "My dog is named Pavel.\n",
    "Statement three:\n",
    "\n",
    "Dogs make the best pets.\n",
    "Statement four:\n",
    "\n",
    "Cats are female dogs."
   ]
  },
  {
   "cell_type": "code",
   "execution_count": 1,
   "metadata": {},
   "outputs": [],
   "source": [
    "example_statement = \"No\"\n",
    "\n",
    "statement_one =\"Yes\"\n",
    "\n",
    "statement_two =\"No\"\n",
    "\n",
    "statement_three =\"Yes\"\n",
    "\n",
    "statement_four =\"No\""
   ]
  },
  {
   "cell_type": "code",
   "execution_count": 2,
   "metadata": {},
   "outputs": [
    {
     "data": {
      "text/plain": [
       "True"
      ]
     },
     "execution_count": 2,
     "metadata": {},
     "output_type": "execute_result"
    }
   ],
   "source": [
    "#bool((5 * 2) - 1 == 8 + 1)\n",
    "#bool(13 - 6 != (3 * 2) + 1)\n",
    "bool(3 * (2 - 1) == 4 - 1)"
   ]
  },
  {
   "cell_type": "code",
   "execution_count": 3,
   "metadata": {},
   "outputs": [
    {
     "name": "stdout",
     "output_type": "stream",
     "text": [
      "I know it is you, Dave! Go away!\n"
     ]
    }
   ],
   "source": [
    "# Enter a user name here, make sure to make it a string\n",
    "user_name = \"angela_catlady_87\"\n",
    "\n",
    "if user_name == \"Dave\":\n",
    "  print(\"Get off my computer Dave!\")\n",
    "if user_name == \"angela_catlady_87\":\n",
    "    print(\"I know it is you, Dave! Go away!\")\n",
    "\n"
   ]
  },
  {
   "cell_type": "code",
   "execution_count": 4,
   "metadata": {},
   "outputs": [
    {
     "name": "stdout",
     "output_type": "stream",
     "text": [
      "You meet the requirements to graduate!\n"
     ]
    }
   ],
   "source": [
    "statement_one = (2 + 2 + 2 >= 6) and (-1 * -1 < 0)\n",
    "\n",
    "statement_two = (4 * 2 <= 8) and (7 - 1 == 6)\n",
    "\n",
    "credits = 120\n",
    "gpa = 3.4\n",
    "\n",
    "if credits >= 120 and gpa >= 2.0:\n",
    "  print(\"You meet the requirements to graduate!\")"
   ]
  }
 ],
 "metadata": {
  "kernelspec": {
   "display_name": "Python 3.10.4 64-bit",
   "language": "python",
   "name": "python3"
  },
  "language_info": {
   "codemirror_mode": {
    "name": "ipython",
    "version": 3
   },
   "file_extension": ".py",
   "mimetype": "text/x-python",
   "name": "python",
   "nbconvert_exporter": "python",
   "pygments_lexer": "ipython3",
   "version": "3.10.4"
  },
  "vscode": {
   "interpreter": {
    "hash": "4f946df053fbf2b937619d3c5458e7af74262f9a954d8797ba0b27400bcafe06"
   }
  }
 },
 "nbformat": 4,
 "nbformat_minor": 2
}