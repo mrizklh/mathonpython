{
 "cells": [
  {
   "cell_type": "markdown",
   "metadata": {},
   "source": [
    "# dictionary "
   ]
  },
  {
   "cell_type": "markdown",
   "metadata": {},
   "source": [
    "dictionary adalah suatu bentuk data struktur dimana setiap elemennya memiliki nilai yang unik. elemen yang unik ini disebut *key pair*. ini mirip dengan database dimana setiap elemennya memiliki nilai unik. seperti dalam aplikasi instagram *key pair* pada hal ini adalah *username dan password*. dari username dan password ini segala data yang terkait akun instagram dapat ditemukan. Where a list index is always a number, a dictionary key can be a different data type, like a string, integer, float, or even tuples."
   ]
  },
  {
   "cell_type": "markdown",
   "metadata": {},
   "source": [
    "## cara mendeklarasikan dictionary"
   ]
  },
  {
   "cell_type": "code",
   "execution_count": 1,
   "metadata": {},
   "outputs": [
    {
     "name": "stdout",
     "output_type": "stream",
     "text": [
      "{'jpg': 10, 'png': 20, 'gif': 30, 'txt': 40}\n"
     ]
    }
   ],
   "source": [
    "file_count = {\"jpg\": 10, \"png\": 20, \"gif\": 30, \"txt\": 40}\n",
    "print(file_count)"
   ]
  },
  {
   "cell_type": "markdown",
   "metadata": {},
   "source": [
    "mari kita breakdown kode diatas:\n",
    "- file_count merupakan variabel yang menyimpan data dari dictionary\n",
    "- {} atau disebut juga \"tanda kurung kurawal\" adalah tanda bahwa dictionary ini akan diisi dengan key pair dan value pair.\n",
    "- key pair adalah kumpulan data yang memiliki nilai unik. dalam hal ini key pair adalah tipe data string.\n",
    "- value pair adalah kumpulan data yang memiliki nilai unik. dalam hal ini value pair adalah tipe data integer.\n",
    "- tiap elemen pada dictionary dipisahkan oleh tanda koma sama seperti pada list dan tuple."
   ]
  },
  {
   "cell_type": "code",
   "execution_count": 2,
   "metadata": {},
   "outputs": [
    {
     "data": {
      "text/plain": [
       "10"
      ]
     },
     "execution_count": 2,
     "metadata": {},
     "output_type": "execute_result"
    }
   ],
   "source": [
    "file_count[\"jpg\"]"
   ]
  },
  {
   "cell_type": "markdown",
   "metadata": {},
   "source": [
    "kode diatas merupakan salah satu ddari aplikasi dictionary. kita bisa memanggil value pair dengan menggunakan key pair. "
   ]
  },
  {
   "cell_type": "code",
   "execution_count": 3,
   "metadata": {},
   "outputs": [
    {
     "name": "stdout",
     "output_type": "stream",
     "text": [
      "True\n",
      "False\n"
     ]
    }
   ],
   "source": [
    "print(\"jpg\" in file_count)\n",
    "print(\"xml\" in file_count)"
   ]
  },
  {
   "cell_type": "markdown",
   "metadata": {},
   "source": [
    "### menambahkan elemen pada dictionary "
   ]
  },
  {
   "cell_type": "code",
   "execution_count": 4,
   "metadata": {},
   "outputs": [
    {
     "name": "stdout",
     "output_type": "stream",
     "text": [
      "{'jpg': 10, 'png': 20, 'gif': 30, 'txt': 40, 'xml': 50}\n"
     ]
    }
   ],
   "source": [
    "file_count[\"xml\"] = 50\n",
    "print(file_count)"
   ]
  },
  {
   "cell_type": "markdown",
   "metadata": {},
   "source": [
    "dapat kita lihat di sini bahwa dictionary file count bersifat mutable. artinya bisa diubah. mirip seperti list bukan tuple. "
   ]
  },
  {
   "cell_type": "code",
   "execution_count": 5,
   "metadata": {},
   "outputs": [
    {
     "name": "stdout",
     "output_type": "stream",
     "text": [
      "{'jpg': 10, 'png': 20, 'gif': 30, 'txt': 40, 'xml': 60}\n"
     ]
    }
   ],
   "source": [
    "file_count[\"xml\"] += 10\n",
    "print(file_count)"
   ]
  }
 ],
 "metadata": {
  "kernelspec": {
   "display_name": "Python 3.10.4 64-bit",
   "language": "python",
   "name": "python3"
  },
  "language_info": {
   "codemirror_mode": {
    "name": "ipython",
    "version": 3
   },
   "file_extension": ".py",
   "mimetype": "text/x-python",
   "name": "python",
   "nbconvert_exporter": "python",
   "pygments_lexer": "ipython3",
   "version": "3.10.4"
  },
  "vscode": {
   "interpreter": {
    "hash": "4f946df053fbf2b937619d3c5458e7af74262f9a954d8797ba0b27400bcafe06"
   }
  }
 },
 "nbformat": 4,
 "nbformat_minor": 2
}