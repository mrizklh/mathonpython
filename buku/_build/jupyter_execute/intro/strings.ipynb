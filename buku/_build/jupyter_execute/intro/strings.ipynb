{
 "cells": [
  {
   "cell_type": "markdown",
   "metadata": {},
   "source": [
    "# String in Python "
   ]
  },
  {
   "cell_type": "code",
   "execution_count": 1,
   "metadata": {},
   "outputs": [
    {
     "name": "stdout",
     "output_type": "stream",
     "text": [
      " ini adalah string pada python\n"
     ]
    }
   ],
   "source": [
    "a = \" ini adalah string pada python\"\n",
    "print(a)"
   ]
  },
  {
   "cell_type": "markdown",
   "metadata": {},
   "source": [
    "Pada python string adalah tipe data yang immutable, artinya data itu tidak bisa diubah setelah dideklarasikan. tipe ada ini mirip dengan tuple. namun kita bisa assign nilai string baru ke variable yang sama. "
   ]
  },
  {
   "cell_type": "code",
   "execution_count": 2,
   "metadata": {},
   "outputs": [
    {
     "ename": "TypeError",
     "evalue": "'str' object does not support item assignment",
     "output_type": "error",
     "traceback": [
      "\u001b[0;31m---------------------------------------------------------------------------\u001b[0m",
      "\u001b[0;31mTypeError\u001b[0m                                 Traceback (most recent call last)",
      "Input \u001b[0;32mIn [2]\u001b[0m, in \u001b[0;36m<cell line: 2>\u001b[0;34m()\u001b[0m\n\u001b[1;32m      1\u001b[0m a1 \u001b[38;5;241m=\u001b[39m \u001b[38;5;124m\"\u001b[39m\u001b[38;5;124m ini adalah string pada python\u001b[39m\u001b[38;5;124m\"\u001b[39m\n\u001b[0;32m----> 2\u001b[0m a1[\u001b[38;5;241m2\u001b[39m] \u001b[38;5;241m=\u001b[39m \u001b[38;5;124m\"\u001b[39m\u001b[38;5;124ma\u001b[39m\u001b[38;5;124m\"\u001b[39m\n",
      "\u001b[0;31mTypeError\u001b[0m: 'str' object does not support item assignment"
     ]
    }
   ],
   "source": [
    "a1 = \" ini adalah string pada python\"\n",
    "a1[2] = \"a\""
   ]
  },
  {
   "cell_type": "markdown",
   "metadata": {},
   "source": [
    "inilah yang terjadi kalau kita mencoba mengubah nilai string. akan terjadi TypeError. "
   ]
  },
  {
   "cell_type": "code",
   "execution_count": 5,
   "metadata": {},
   "outputs": [
    {
     "name": "stdout",
     "output_type": "stream",
     "text": [
      " ini adalah string pada python\n",
      " ini adalah string baru yang di-assign pada peubah a\n"
     ]
    }
   ],
   "source": [
    "a = \" ini adalah string pada python\"\n",
    "print(a) \n",
    "a = \" ini adalah string baru yang di-assign pada peubah a\"\n",
    "print(a)\n"
   ]
  },
  {
   "cell_type": "markdown",
   "metadata": {},
   "source": [
    "## index pada string\n",
    "sama seperti list, kita bisa mengakses elemen pada string dengan menggunakan index. index pada python dimulai dari 0."
   ]
  },
  {
   "cell_type": "code",
   "execution_count": 1,
   "metadata": {},
   "outputs": [
    {
     "name": "stdout",
     "output_type": "stream",
     "text": [
      "Muham\n"
     ]
    }
   ],
   "source": [
    "name = \"Muhammad Rizkillah\"\n",
    "print(name[0:5])"
   ]
  },
  {
   "cell_type": "markdown",
   "metadata": {},
   "source": [
    "seperti yang anda duga hal ini mirip dengan apa yang kita lakukan pada list. padaa dasarnya string merupakan list of char yang tidak membutuhkan koma. "
   ]
  },
  {
   "cell_type": "markdown",
   "metadata": {},
   "source": [
    "## slicing a string \n"
   ]
  },
  {
   "cell_type": "code",
   "execution_count": 2,
   "metadata": {},
   "outputs": [
    {
     "name": "stdout",
     "output_type": "stream",
     "text": [
      "Villa\n",
      "llan\n"
     ]
    }
   ],
   "source": [
    "first_name = \"Rodrigo\"\n",
    "last_name = \"Villanueva\"\n",
    "\n",
    "new_account = last_name[:5]\n",
    "print(new_account)\n",
    "temp_password = last_name[2:6]\n",
    "print(temp_password)"
   ]
  },
  {
   "cell_type": "markdown",
   "metadata": {},
   "source": [
    "### concatenation of slicing strinng "
   ]
  },
  {
   "cell_type": "code",
   "execution_count": 6,
   "metadata": {},
   "outputs": [
    {
     "name": "stdout",
     "output_type": "stream",
     "text": [
      "JulBle\n"
     ]
    }
   ],
   "source": [
    "first_name = \"Julie\"\n",
    "last_name = \"Blevins\"\n",
    "\n",
    "def account_generator(first_name, last_name):\n",
    "    first = first_name[:3]\n",
    "    last = last_name[:3]\n",
    "    new_account = first + last\n",
    "    return new_account\n",
    "new_account = account_generator(first_name, last_name)\n",
    "print(new_account)"
   ]
  },
  {
   "cell_type": "code",
   "execution_count": 7,
   "metadata": {},
   "outputs": [
    {
     "name": "stdout",
     "output_type": "stream",
     "text": [
      "lieins\n"
     ]
    }
   ],
   "source": [
    "#Write a function called password_generator() that takes two inputs, first_name and last_name, and then concatenates the last three letters of each and returns them as a string.\n",
    "def password_generator(first_name, last_name):\n",
    "    first = first_name[-3:]\n",
    "    last = last_name[-3:]\n",
    "    new_account = first + last\n",
    "    return new_account\n",
    "new_account = password_generator(first_name, last_name)\n",
    "print(new_account)"
   ]
  },
  {
   "cell_type": "markdown",
   "metadata": {},
   "source": [
    "#### Negative indexing"
   ]
  },
  {
   "cell_type": "code",
   "execution_count": null,
   "metadata": {},
   "outputs": [],
   "source": []
  }
 ],
 "metadata": {
  "kernelspec": {
   "display_name": "Python 3.10.4 64-bit",
   "language": "python",
   "name": "python3"
  },
  "language_info": {
   "codemirror_mode": {
    "name": "ipython",
    "version": 3
   },
   "file_extension": ".py",
   "mimetype": "text/x-python",
   "name": "python",
   "nbconvert_exporter": "python",
   "pygments_lexer": "ipython3",
   "version": "3.10.4"
  },
  "vscode": {
   "interpreter": {
    "hash": "4f946df053fbf2b937619d3c5458e7af74262f9a954d8797ba0b27400bcafe06"
   }
  }
 },
 "nbformat": 4,
 "nbformat_minor": 2
}