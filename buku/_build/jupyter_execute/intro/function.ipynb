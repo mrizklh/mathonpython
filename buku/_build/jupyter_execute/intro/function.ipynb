{
 "cells": [
  {
   "cell_type": "markdown",
   "metadata": {},
   "source": [
    "# Function \n",
    "### Pengenalan \n",
    "sama seperti di matematika, fungsi adalah sebuah kumpulan kode yang dapat menghasilkan suatu nilai. fungsi bisa butuh input (parameter) dan output (return value). sama seperti pada contol flow dan loop. blok kode dalam fungsi bersifat local. dan fungsi setelah diinisiasi bisa dipanggil di dalam blok kode lain, atau bahkan di dalam kode itu sendiri. "
   ]
  },
  {
   "cell_type": "code",
   "execution_count": 1,
   "metadata": {},
   "outputs": [
    {
     "name": "stdout",
     "output_type": "stream",
     "text": [
      "Hello World\n"
     ]
    }
   ],
   "source": [
    "def hello():\n",
    "    print(\"Hello World\")\n",
    "hello()"
   ]
  },
  {
   "cell_type": "markdown",
   "metadata": {},
   "source": [
    "fungsi diatas merupakan contoh sederhana suatu funsi dalam python, fungsi diatas tidak memiliki argument.  "
   ]
  },
  {
   "cell_type": "markdown",
   "metadata": {},
   "source": [
    "### Mendeklarasikan Fungsi\n"
   ]
  },
  {
   "cell_type": "code",
   "execution_count": 2,
   "metadata": {},
   "outputs": [
    {
     "ename": "StdinNotImplementedError",
     "evalue": "raw_input was called, but this frontend does not support input requests.",
     "output_type": "error",
     "traceback": [
      "\u001b[0;31m---------------------------------------------------------------------------\u001b[0m",
      "\u001b[0;31mStdinNotImplementedError\u001b[0m                  Traceback (most recent call last)",
      "Input \u001b[0;32mIn [2]\u001b[0m, in \u001b[0;36m<cell line: 5>\u001b[0;34m()\u001b[0m\n\u001b[1;32m      3\u001b[0m     \u001b[38;5;28;01mif\u001b[39;00m \u001b[38;5;28mint\u001b[39m(umur) \u001b[38;5;241m<\u001b[39m \u001b[38;5;241m20\u001b[39m: \n\u001b[1;32m      4\u001b[0m         \u001b[38;5;28;01mreturn\u001b[39;00m \u001b[38;5;124m\"\u001b[39m\u001b[38;5;124mAnda masih muda\u001b[39m\u001b[38;5;124m\"\u001b[39m\n\u001b[0;32m----> 5\u001b[0m nama_fungsi(\u001b[38;5;28;43minput\u001b[39;49m\u001b[43m(\u001b[49m\u001b[38;5;124;43m\"\u001b[39;49m\u001b[38;5;124;43mMasukkan nama: \u001b[39;49m\u001b[38;5;124;43m\"\u001b[39;49m\u001b[43m)\u001b[49m, \u001b[38;5;28minput\u001b[39m(\u001b[38;5;124m\"\u001b[39m\u001b[38;5;124mMasukkan umur: \u001b[39m\u001b[38;5;124m\"\u001b[39m))\n",
      "File \u001b[0;32m/opt/python/latest/lib/python3.10/site-packages/ipykernel/kernelbase.py:1158\u001b[0m, in \u001b[0;36mKernel.raw_input\u001b[0;34m(self, prompt)\u001b[0m\n\u001b[1;32m   1151\u001b[0m \u001b[38;5;124;03m\"\"\"Forward raw_input to frontends\u001b[39;00m\n\u001b[1;32m   1152\u001b[0m \n\u001b[1;32m   1153\u001b[0m \u001b[38;5;124;03mRaises\u001b[39;00m\n\u001b[1;32m   1154\u001b[0m \u001b[38;5;124;03m------\u001b[39;00m\n\u001b[1;32m   1155\u001b[0m \u001b[38;5;124;03mStdinNotImplementedError if active frontend doesn't support stdin.\u001b[39;00m\n\u001b[1;32m   1156\u001b[0m \u001b[38;5;124;03m\"\"\"\u001b[39;00m\n\u001b[1;32m   1157\u001b[0m \u001b[38;5;28;01mif\u001b[39;00m \u001b[38;5;129;01mnot\u001b[39;00m \u001b[38;5;28mself\u001b[39m\u001b[38;5;241m.\u001b[39m_allow_stdin:\n\u001b[0;32m-> 1158\u001b[0m     \u001b[38;5;28;01mraise\u001b[39;00m StdinNotImplementedError(\n\u001b[1;32m   1159\u001b[0m         \u001b[38;5;124m\"\u001b[39m\u001b[38;5;124mraw_input was called, but this frontend does not support input requests.\u001b[39m\u001b[38;5;124m\"\u001b[39m\n\u001b[1;32m   1160\u001b[0m     )\n\u001b[1;32m   1161\u001b[0m \u001b[38;5;28;01mreturn\u001b[39;00m \u001b[38;5;28mself\u001b[39m\u001b[38;5;241m.\u001b[39m_input_request(\n\u001b[1;32m   1162\u001b[0m     \u001b[38;5;28mstr\u001b[39m(prompt),\n\u001b[1;32m   1163\u001b[0m     \u001b[38;5;28mself\u001b[39m\u001b[38;5;241m.\u001b[39m_parent_ident[\u001b[38;5;124m\"\u001b[39m\u001b[38;5;124mshell\u001b[39m\u001b[38;5;124m\"\u001b[39m],\n\u001b[1;32m   1164\u001b[0m     \u001b[38;5;28mself\u001b[39m\u001b[38;5;241m.\u001b[39mget_parent(\u001b[38;5;124m\"\u001b[39m\u001b[38;5;124mshell\u001b[39m\u001b[38;5;124m\"\u001b[39m),\n\u001b[1;32m   1165\u001b[0m     password\u001b[38;5;241m=\u001b[39m\u001b[38;5;28;01mFalse\u001b[39;00m,\n\u001b[1;32m   1166\u001b[0m )\n",
      "\u001b[0;31mStdinNotImplementedError\u001b[0m: raw_input was called, but this frontend does not support input requests."
     ]
    }
   ],
   "source": [
    "def nama_fungsi(argument, umur): \n",
    "    print(argument)\n",
    "    if int(umur) < 20: \n",
    "        return \"Anda masih muda\"\n",
    "nama_fungsi(input(\"Masukkan nama: \"), input(\"Masukkan umur: \"))"
   ]
  },
  {
   "cell_type": "markdown",
   "metadata": {},
   "source": [
    "mari kita breakdown kode diatas: \n",
    "- def merupakan reserved word yang digunakan untuk deklarasi fungsi.\n",
    "- \"nama_fungsi\" adalah nama yang akan diberikan kepada fungsi.\n",
    "- \"argument, umur\" merupakan argument/parameter/input yang akan diproses oleh fungsi\n",
    "- blok kode yang di dalam fungsi merupakan aksi yang akan dijalankan ketika fungsi dipanggil. \n",
    "- return merupakan keyword yang digunakan untuk mengembalikan nilai dari fungsi.\n",
    "- \"nama_fungsi(input(\"Masukkan nama: \"), input(\"Masukkan umur: \"))\" adalah pemanggilan fungsi beserta input yang akan dijalankan. input() itu sendiri sebenarnya juga fungsi yang built-in di Python. \n"
   ]
  },
  {
   "cell_type": "markdown",
   "metadata": {},
   "source": [
    "### Argument "
   ]
  },
  {
   "cell_type": "code",
   "execution_count": null,
   "metadata": {},
   "outputs": [],
   "source": [
    "# Your code below:\n",
    "def generate_trip_instructions(location):\n",
    "  print(\"Looks like you are planning a trip to visit\"+ location)\n",
    "  print(\"You can use the public subway system to get to\" + location )\n",
    "generate_trip_instructions(\"Grand Central Station\")\n"
   ]
  },
  {
   "cell_type": "markdown",
   "metadata": {},
   "source": [
    "### multiple argument function. "
   ]
  },
  {
   "cell_type": "code",
   "execution_count": null,
   "metadata": {},
   "outputs": [],
   "source": [
    "# Write your code below: \n",
    "def calculate_expenses(plane_ticket_price, car_rental_rate, hotel_rate, trip_time):\n",
    "  car_rental_total = car_rental_rate * trip_time \n",
    "  hotel_total = hotel_rate * trip_time -10\n",
    "  print(car_rental_total + hotel_total + plane_ticket_price)\n",
    "calculate_expenses(200, 100, 100, 5)"
   ]
  },
  {
   "cell_type": "markdown",
   "metadata": {},
   "source": [
    "### tipe argument\n",
    "ada tiga macam argument yang bisa kita pakai pada fungsi yaitu: \n",
    "- posisional argument: argument yang bisa dipanggil dengan posisinya pada saat fungsi didefinisikan. \n",
    "- keyword argument: argument yang bisa dipanggil dengan nama yang sama seperti nama variabel.\n",
    "- default argument: argument yang bisa dipanggil dengan nama yang sama seperti nama variabel. dan nilai default yang akan diisi jika tidak ada input.\n"
   ]
  },
  {
   "cell_type": "markdown",
   "metadata": {},
   "source": [
    "#### Positional Argument\n",
    "posisitional argument adalah argument yang bisa dipanggil dengan posisinya pada saat fungsi didefinisikan. tipe argument ini biasanya dipakai untuk fungsi sederhana. \n",
    "#### keyword argument\n",
    "keyword argument adalah argument yang bisa dipanggil dengan nama yang sama seperti nama variabel. tipe argument ini biasanya dipakai untuk fungsi yang lebih kompleks."
   ]
  },
  {
   "cell_type": "code",
   "execution_count": 8,
   "metadata": {},
   "outputs": [
    {
     "name": "stdout",
     "output_type": "stream",
     "text": [
      "40.0\n"
     ]
    }
   ],
   "source": [
    "def calculate_taxi_price(miles_to_travel, rate, discount):\n",
    "  print(miles_to_travel * rate - discount )\n",
    "calculate_taxi_price(rate=0.5, discount=10, miles_to_travel=100)"
   ]
  },
  {
   "cell_type": "markdown",
   "metadata": {},
   "source": [
    "#### Default Argument\n",
    "terakhir, terkadang kita ingin menjadikan suatu nilai dari argument itu sudah ada alias nilai default. untuk itulah tipe argument ini dipakai. cara menggunakannya adalah dengan menggunakan tanda \"=\" pendefinisian fungsi. "
   ]
  },
  {
   "cell_type": "code",
   "execution_count": 9,
   "metadata": {},
   "outputs": [
    {
     "name": "stdout",
     "output_type": "stream",
     "text": [
      "40.0\n"
     ]
    }
   ],
   "source": [
    "def calculate_taxi_price(miles_to_travel, rate, discount = 10):\n",
    "  print(miles_to_travel * rate - discount )\n",
    "calculate_taxi_price(miles_to_travel=100, rate=0.5)"
   ]
  },
  {
   "cell_type": "markdown",
   "metadata": {},
   "source": [
    "pada contoh diatas kita tidak perlu menuliskan nilai argument discount, hal ini bisa terjadi karena kita menggunakan default argument, sehingga argument ketiga menajadi optional. "
   ]
  },
  {
   "cell_type": "code",
   "execution_count": 10,
   "metadata": {},
   "outputs": [
    {
     "name": "stdout",
     "output_type": "stream",
     "text": [
      "Here is what your trip will look like!\n",
      "First, we will stop in France, then Germany, and lastly Denmark\n",
      "Here is what your trip will look like!\n",
      "First, we will stop in denmark, then france, and lastly germany\n"
     ]
    }
   ],
   "source": [
    "# Write your code below:\n",
    "def trip_planner(first_destination, second_destination, final_destination= \"Codecademy HQ\"):\n",
    "  print(\"Here is what your trip will look like!\")\n",
    "  print(\"First, we will stop in \" + first_destination +\", then \" + second_destination+ \", and lastly \" + final_destination)\n",
    "trip_planner(\"France\", \"Germany\", \"Denmark\")\n",
    "trip_planner(\"Denmark\", \"France\", \"Germany\")\n",
    "trip_planner(first_destination=\"Iceland\", second_destination=\"India\", final_destination=\"Germany\")\n",
    "trip_planner(\"Brooklyn\", \"Queens\")"
   ]
  },
  {
   "cell_type": "markdown",
   "metadata": {},
   "source": [
    "### Built-in Functions vs User Defined Functions\n",
    "Di Python, kita bisa membuat fungsi sendiri. namun, Bahasa Pemrograman Python memiliki fungsi yang sudah ada. istilahnya built-in function. print() adalah built-in function. len() juga build in function. yang kita pelajari di laman ini adalah user defined function, yaitu fungsi yang bisa kita buat sendiri. bukankah itu hal yang menakjubkan, kita bisa ekstensi bahasa python dengan menggunakan fungsi sendiri. begitu juga dengan library dan module. tapi itu akan kita plajari nanti. "
   ]
  },
  {
   "cell_type": "code",
   "execution_count": null,
   "metadata": {},
   "outputs": [],
   "source": [
    "tshirt_price = 9.75\n",
    "shorts_price = 15.50\n",
    "mug_price = 5.99\n",
    "poster_price = 2.00\n",
    "\n",
    "# Write your code below:\n",
    "\n",
    "# Checkpoint 1\n",
    "max_price = max(tshirt_price, shorts_price, mug_price, poster_price)\n",
    "print(max_price)\n",
    "\n",
    "# Checkpoint 2\n",
    "min_price = min(tshirt_price, shorts_price, mug_price, poster_price)\n",
    "print(min_price)\n",
    "\n",
    "# Checkpoint 3\n",
    "rounded_price = round(tshirt_price, 1)\n",
    "print(rounded_price)"
   ]
  },
  {
   "cell_type": "markdown",
   "metadata": {},
   "source": [
    "#### Variable accessible inside a function\n",
    "\n",
    "suatu variable yang didifinisikan di dalam fungsi ini bisa dipanggil di luar fungsi tersebut. seperti yang anda lihat pada kode di bawah. variable a yang didifinisikan di dalam fungsi ini tidak bisa dipanggil di luar fungsi tersebut. hal ini karena *scope* atau jangkauan dari useable variable tersebut cuma sebatas di dalam fungsi tersebut. Namun, kita bisa menggunakan variable yang didefinisikan secara global ke dalam fungsi. \n"
   ]
  },
  {
   "cell_type": "code",
   "execution_count": 16,
   "metadata": {},
   "outputs": [
    {
     "name": "stdout",
     "output_type": "stream",
     "text": [
      "Hello World\n"
     ]
    },
    {
     "ename": "NameError",
     "evalue": "name 'a' is not defined",
     "output_type": "error",
     "traceback": [
      "\u001b[0;31m---------------------------------------------------------------------------\u001b[0m",
      "\u001b[0;31mNameError\u001b[0m                                 Traceback (most recent call last)",
      "\u001b[1;32m/workspaces/mathonpython/buku/intro/function.ipynb Cell 21'\u001b[0m in \u001b[0;36m<cell line: 5>\u001b[0;34m()\u001b[0m\n\u001b[1;32m      <a href='vscode-notebook-cell://codespaces%2Bmrizklh-mathonpython-69gpqv7v6hrjj7/workspaces/mathonpython/buku/intro/function.ipynb#ch0000024vscode-remote?line=2'>3</a>\u001b[0m     \u001b[39mprint\u001b[39m(argument)\n\u001b[1;32m      <a href='vscode-notebook-cell://codespaces%2Bmrizklh-mathonpython-69gpqv7v6hrjj7/workspaces/mathonpython/buku/intro/function.ipynb#ch0000024vscode-remote?line=3'>4</a>\u001b[0m test_fungsi(\u001b[39m\"\u001b[39m\u001b[39mHello World\u001b[39m\u001b[39m\"\u001b[39m)\n\u001b[0;32m----> <a href='vscode-notebook-cell://codespaces%2Bmrizklh-mathonpython-69gpqv7v6hrjj7/workspaces/mathonpython/buku/intro/function.ipynb#ch0000024vscode-remote?line=4'>5</a>\u001b[0m \u001b[39mprint\u001b[39m(a)\n",
      "\u001b[0;31mNameError\u001b[0m: name 'a' is not defined"
     ]
    }
   ],
   "source": [
    "def test_fungsi(argument):\n",
    "    a = 0 \n",
    "    print(argument)\n",
    "test_fungsi(\"Hello World\")\n",
    "print(a)"
   ]
  },
  {
   "cell_type": "code",
   "execution_count": 17,
   "metadata": {},
   "outputs": [
    {
     "name": "stdout",
     "output_type": "stream",
     "text": [
      "There are 3 locations\n",
      "Your favorite locations are: Paris, Norway, Iceland\n"
     ]
    }
   ],
   "source": [
    "favorite_locations = \"Paris, Norway, Iceland\"\n",
    "def print_count_locations():\n",
    "  \n",
    "  print(\"There are 3 locations\")\n",
    "    \n",
    "# This function will print the favorite locations\n",
    "def show_favorite_locations():\n",
    "  print(\"Your favorite locations are: \" + favorite_locations)\n",
    "\n",
    "print_count_locations()\n",
    "show_favorite_locations()"
   ]
  },
  {
   "cell_type": "markdown",
   "metadata": {},
   "source": [
    "contoh diatas merupakan salah satu contoh dari variable yang didifinisikan secara global dan diakses di dalam fungsi.yaitu variable \"favorite_location\". "
   ]
  },
  {
   "cell_type": "markdown",
   "metadata": {},
   "source": [
    "### Return Value \n",
    "\n",
    "selain dengan menggunakan print() function. kita juga bisa menggunakan reserved word return untuk mengembalikan nilai dari fungsi. return berfunsi sebagai yang mengeluarkan nilai dari fungsi. "
   ]
  },
  {
   "cell_type": "code",
   "execution_count": 20,
   "metadata": {},
   "outputs": [
    {
     "data": {
      "text/plain": [
       "'Hello John'"
      ]
     },
     "execution_count": 20,
     "metadata": {},
     "output_type": "execute_result"
    }
   ],
   "source": [
    "def hello(name):\n",
    "  return \"Hello \" + name\n",
    "\n",
    "hello(\"John\")"
   ]
  },
  {
   "cell_type": "markdown",
   "metadata": {},
   "source": [
    "pada kode diatas kita tidak perlu menggunakan print function karena sudah kata return sudah mencukupi. "
   ]
  },
  {
   "cell_type": "code",
   "execution_count": null,
   "metadata": {},
   "outputs": [],
   "source": [
    "current_budget = 3500.75\n",
    "\n",
    "def print_remaining_budget(budget):\n",
    "  print(\"Your remaining budget is: $\" + str(budget))\n",
    "\n",
    "print_remaining_budget(current_budget)\n",
    "\n",
    "# Write your code below: \n",
    "def deduct_expense(budget, expense):\n",
    "  return budget - expense\n",
    "\n",
    "shirt_expense = 9\n",
    "\n",
    "new_budget_after_shirt = deduct_expense( current_budget, shirt_expense )\n",
    "\n",
    "print_remaining_budget(new_budget_after_shirt)"
   ]
  },
  {
   "cell_type": "markdown",
   "metadata": {},
   "source": [
    "#### Multiple return \n",
    "\n",
    "gunakan koma untuk memisahkan nilai yang akan dikembalikan. \n"
   ]
  },
  {
   "cell_type": "code",
   "execution_count": 1,
   "metadata": {},
   "outputs": [
    {
     "data": {
      "text/plain": [
       "(10, 10)"
      ]
     },
     "execution_count": 1,
     "metadata": {},
     "output_type": "execute_result"
    }
   ],
   "source": [
    "def span_of_time(start_time, end_time):\n",
    "  return start_time, (end_time - start_time)\n",
    "span_of_time(10, 20)"
   ]
  },
  {
   "cell_type": "code",
   "execution_count": null,
   "metadata": {},
   "outputs": [],
   "source": [
    "def top_tourist_locations_italy():\n",
    "  first = \"Rome\"\n",
    "  second = \"Venice\"\n",
    "  third = \"Florence\"\n",
    "  return first, second, third\n",
    "most_popular1, most_popular2, most_popular3 = top_tourist_locations_italy()\n",
    "print(most_popular1)\n",
    "print(most_popular2)\n",
    "print(most_popular3)    "
   ]
  },
  {
   "cell_type": "markdown",
   "metadata": {},
   "source": [
    "## review Function\n",
    "di laman ini kita belajar: \n",
    "- kapan menggunakan suatu fungsi.\n",
    "- apa itu fungsi dalam python dan bagaimana mendeklarasikan fungsi.\n",
    "- bagaimana indentation pada kode python.\n",
    "- bagaimana memasukkan input ke dalam fungsi. \n",
    "- perbedaan build-in function dan user defined function.\n",
    "- berbagai macan tipe argument\n",
    "- return value \n",
    "- scope of variable. "
   ]
  },
  {
   "cell_type": "code",
   "execution_count": 6,
   "metadata": {},
   "outputs": [
    {
     "name": "stdout",
     "output_type": "stream",
     "text": [
      "Welcome to tripplanner v1.0 mr\n"
     ]
    },
    {
     "data": {
      "text/plain": [
       "4"
      ]
     },
     "execution_count": 6,
     "metadata": {},
     "output_type": "execute_result"
    }
   ],
   "source": [
    "# Write your code below:\n",
    "\n",
    "def trip_planner_welcome(name): \n",
    "  print(\"Welcome to tripplanner v1.0 \" + name)\n",
    "\n",
    "trip_planner_welcome(\" <YOUR NAME HERE> \")\n",
    "\n",
    "def estimated_time_rounded(estimated_time):\n",
    "  rounded_time = round(estimated_time)\n",
    "  return rounded_time\n",
    "\n",
    "estimate = estimated_time_rounded(2.43)\n",
    "\n",
    "def destination_setup(origin, destination, estimated_time, mode_of_transport=\"Car\"):\n",
    "  print(\"Your trip starts off in \" + origin)\n",
    "  print(\"And you are traveling to \" + destination)\n",
    "  print(\"You will be traveling by \" + mode_of_transport)\n",
    "  print(\"It will take approximately \" + str(estimated_time) + \" hours\")\n",
    "\n",
    "\n",
    "destination_setup(\" <PICK AN ORIGIN> \", \"<PICK A DESTINATION > \", estimate, \"Car\")"
   ]
  }
 ],
 "metadata": {
  "kernelspec": {
   "display_name": "Python 3.10.4 64-bit",
   "language": "python",
   "name": "python3"
  },
  "language_info": {
   "codemirror_mode": {
    "name": "ipython",
    "version": 3
   },
   "file_extension": ".py",
   "mimetype": "text/x-python",
   "name": "python",
   "nbconvert_exporter": "python",
   "pygments_lexer": "ipython3",
   "version": "3.10.4"
  },
  "vscode": {
   "interpreter": {
    "hash": "4f946df053fbf2b937619d3c5458e7af74262f9a954d8797ba0b27400bcafe06"
   }
  }
 },
 "nbformat": 4,
 "nbformat_minor": 2
}