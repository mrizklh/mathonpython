{
 "cells": [
  {
   "cell_type": "markdown",
   "metadata": {},
   "source": [
    "# List \n",
    "List adalah suatu cara menyimpan koleksi dari suatu data yang dapat diubah (mutable). tipe data list tidak terbatas pada tipe data yang sama. satu list bisa memiliki banyak tipe data."
   ]
  },
  {
   "cell_type": "code",
   "execution_count": 1,
   "metadata": {},
   "outputs": [
    {
     "name": "stdout",
     "output_type": "stream",
     "text": [
      "[1, 2, 3, 4, 5]\n"
     ]
    }
   ],
   "source": [
    "contoh_list = [1, 2, 3, 4, 5]\n",
    "print(contoh_list)"
   ]
  },
  {
   "cell_type": "markdown",
   "metadata": {},
   "source": [
    "## Kriteria mendeklarasikan list \n",
    "- List didefinisikan dengan tanda kurung kotak \"[]\"\n",
    "- tiap elemen dalam list harus dipisahkan dengan tanda koma \",\"\n",
    "- list dapat mengandung elemen yang sama, jadi tidak ada koma di tengah elemen\n",
    "- list dapat mengandung list lain, namanya list 2 dimensi. \n",
    "\n"
   ]
  },
  {
   "cell_type": "code",
   "execution_count": 2,
   "metadata": {},
   "outputs": [
    {
     "name": "stdout",
     "output_type": "stream",
     "text": [
      "True\n"
     ]
    }
   ],
   "source": [
    "contoh_list_2 = [1, 2, \" python\", 1.2, [\"list di dalam list\"], True]\n",
    "print(contoh_list_2[-1])"
   ]
  },
  {
   "cell_type": "markdown",
   "metadata": {},
   "source": [
    "## mengakses list\n",
    "\n",
    "pada contoh diatas mungkin anda kebungungan kenapa cuma niai True yang keluar. hal ini karena kita mengakses list dengan index yang dimulai dari 0. namun di sini uniknya kita juga bisa mengakses elemen dalam list dengan index negatiif yaitu yna g munlai dari belakang. "
   ]
  },
  {
   "cell_type": "code",
   "execution_count": 3,
   "metadata": {},
   "outputs": [
    {
     "name": "stdout",
     "output_type": "stream",
     "text": [
      "[]\n"
     ]
    }
   ],
   "source": [
    "# anda juga bisa mendeklarasikan list ke variable tanpa elemen yang biasanya nantinya akan diisi\n",
    "contoh_list_3 = []\n",
    "print(contoh_list_3)"
   ]
  },
  {
   "cell_type": "markdown",
   "metadata": {},
   "source": [
    "## List Methods\n",
    "List methods adalan sekumkulan dari method yang dapat digunakan pada list. untuk penjelasan lebih lanjut tentang method akan disampaikan pada bagian selanjutnya. untuk sekarang kita akan mencukupkan diiri dengan contoh berikut:"
   ]
  },
  {
   "cell_type": "code",
   "execution_count": 4,
   "metadata": {},
   "outputs": [
    {
     "name": "stdout",
     "output_type": "stream",
     "text": [
      "[1, 2, 3, 4, 5, 6]\n"
     ]
    }
   ],
   "source": [
    "a = [1, 2, 3, 4, 5]\n",
    "a.append(6)\n",
    "print(a)"
   ]
  },
  {
   "cell_type": "markdown",
   "metadata": {},
   "source": [
    "Pada kasus ini .append method berfungsi untuk menambahkan elemen baru ke list.\n"
   ]
  }
 ],
 "metadata": {
  "kernelspec": {
   "display_name": "Python 3.10.4 64-bit",
   "language": "python",
   "name": "python3"
  },
  "language_info": {
   "codemirror_mode": {
    "name": "ipython",
    "version": 3
   },
   "file_extension": ".py",
   "mimetype": "text/x-python",
   "name": "python",
   "nbconvert_exporter": "python",
   "pygments_lexer": "ipython3",
   "version": "3.10.4"
  },
  "vscode": {
   "interpreter": {
    "hash": "4f946df053fbf2b937619d3c5458e7af74262f9a954d8797ba0b27400bcafe06"
   }
  }
 },
 "nbformat": 4,
 "nbformat_minor": 2
}