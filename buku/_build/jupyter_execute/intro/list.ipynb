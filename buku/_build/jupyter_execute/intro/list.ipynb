{
 "cells": [
  {
   "cell_type": "markdown",
   "metadata": {},
   "source": [
    "# List \n",
    "List adalah suatu cara menyimpan koleksi dari suatu data yang dapat diubah (mutable). tipe data list tidak terbatas pada tipe data yang sama. satu list bisa memiliki banyak tipe data."
   ]
  },
  {
   "cell_type": "code",
   "execution_count": 1,
   "metadata": {},
   "outputs": [
    {
     "name": "stdout",
     "output_type": "stream",
     "text": [
      "[1, 2, 3, 4, 5]\n"
     ]
    }
   ],
   "source": [
    "contoh_list = [1, 2, 3, 4, 5]\n",
    "print(contoh_list)"
   ]
  },
  {
   "cell_type": "markdown",
   "metadata": {},
   "source": [
    "## Kriteria mendeklarasikan list \n",
    "- List didefinisikan dengan tanda kurung kotak \"[]\"\n",
    "- tiap elemen dalam list harus dipisahkan dengan tanda koma \",\"\n",
    "- list dapat mengandung elemen yang sama, jadi tidak ada koma di tengah elemen\n",
    "- list dapat mengandung list lain, namanya list 2 dimensi. \n",
    "\n"
   ]
  },
  {
   "cell_type": "code",
   "execution_count": 2,
   "metadata": {},
   "outputs": [
    {
     "name": "stdout",
     "output_type": "stream",
     "text": [
      "True\n"
     ]
    }
   ],
   "source": [
    "contoh_list_2 = [1, 2, \" python\", 1.2, [\"list di dalam list\"], True]\n",
    "print(contoh_list_2[-1])"
   ]
  },
  {
   "cell_type": "markdown",
   "metadata": {},
   "source": [
    "## mengakses list\n",
    "\n",
    "pada contoh diatas mungkin anda kebungungan kenapa cuma niai True yang keluar. hal ini karena kita mengakses list dengan index yang dimulai dari 0. namun di sini uniknya kita juga bisa mengakses elemen dalam list dengan index negatiif yaitu yna g munlai dari belakang. "
   ]
  },
  {
   "cell_type": "code",
   "execution_count": 3,
   "metadata": {},
   "outputs": [
    {
     "name": "stdout",
     "output_type": "stream",
     "text": [
      "[]\n"
     ]
    }
   ],
   "source": [
    "# anda juga bisa mendeklarasikan list ke variable tanpa elemen yang biasanya nantinya akan diisi\n",
    "contoh_list_3 = []\n",
    "print(contoh_list_3)"
   ]
  },
  {
   "cell_type": "markdown",
   "metadata": {},
   "source": [
    "## List Methods\n",
    "List methods adalan sekumkulan dari method yang dapat digunakan pada list. untuk penjelasan lebih lanjut tentang method akan disampaikan pada bagian selanjutnya. untuk sekarang kita akan mencukupkan diiri dengan contoh berikut:"
   ]
  },
  {
   "cell_type": "code",
   "execution_count": 4,
   "metadata": {},
   "outputs": [
    {
     "name": "stdout",
     "output_type": "stream",
     "text": [
      "[1, 2, 3, 4, 5, 6]\n"
     ]
    }
   ],
   "source": [
    "a = [1, 2, 3, 4, 5]\n",
    "a.append(6)\n",
    "print(a)"
   ]
  },
  {
   "cell_type": "markdown",
   "metadata": {},
   "source": [
    "Pada kasus ini .append method berfungsi untuk menambahkan elemen baru ke list, yaitu element int 6. dengan ini kita dapat simpulkan bahwa list dalam python adaah mutable. yang artinya bisa diubah ketika sudah dideklarasikan. \n"
   ]
  },
  {
   "cell_type": "code",
   "execution_count": 5,
   "metadata": {},
   "outputs": [
    {
     "name": "stdout",
     "output_type": "stream",
     "text": [
      "['bola', 'kotak', 'buku', 'komputer']\n"
     ]
    }
   ],
   "source": [
    "order = [\"bola\", \"kotak\", \"buku\"] \n",
    "order.append(\"komputer\")\n",
    "print(order)"
   ]
  },
  {
   "cell_type": "markdown",
   "metadata": {},
   "source": [
    "# Menambahkan list dengan + (Plus)\n",
    "list pada python bisa ditambahkan dengan list lain dengan menggunakan operator +. namun tipe datanya juga harus list. seperti kode di bawah. "
   ]
  },
  {
   "cell_type": "code",
   "execution_count": 6,
   "metadata": {},
   "outputs": [
    {
     "name": "stdout",
     "output_type": "stream",
     "text": [
      "['buku', 'komputer', 'bola', 'kotak', 'laptop']\n"
     ]
    }
   ],
   "source": [
    "items_to_add = [\"buku\", \"komputer\", \"bola\", \"kotak\"]\n",
    "items_to_add_new = items_to_add + [\"laptop\"]\n",
    "print(items_to_add_new)"
   ]
  },
  {
   "cell_type": "code",
   "execution_count": 7,
   "metadata": {},
   "outputs": [
    {
     "ename": "TypeError",
     "evalue": "can only concatenate list (not \"str\") to list",
     "output_type": "error",
     "traceback": [
      "\u001b[0;31m---------------------------------------------------------------------------\u001b[0m",
      "\u001b[0;31mTypeError\u001b[0m                                 Traceback (most recent call last)",
      "Input \u001b[0;32mIn [7]\u001b[0m, in \u001b[0;36m<cell line: 1>\u001b[0;34m()\u001b[0m\n\u001b[0;32m----> 1\u001b[0m items_to_add_new2 \u001b[38;5;241m=\u001b[39m \u001b[43mitems_to_add\u001b[49m\u001b[43m \u001b[49m\u001b[38;5;241;43m+\u001b[39;49m\u001b[43m \u001b[49m\u001b[38;5;124;43m\"\u001b[39;49m\u001b[38;5;124;43mlaptop\u001b[39;49m\u001b[38;5;124;43m\"\u001b[39;49m\n\u001b[1;32m      2\u001b[0m \u001b[38;5;28mprint\u001b[39m(items_to_add_new2)\n",
      "\u001b[0;31mTypeError\u001b[0m: can only concatenate list (not \"str\") to list"
     ]
    }
   ],
   "source": [
    "items_to_add_new2 = items_to_add + \"laptop\"\n",
    "print(items_to_add_new2)"
   ]
  },
  {
   "cell_type": "markdown",
   "metadata": {},
   "source": [
    "type error terjadi karena kita concatenate list dengan tipe data string. "
   ]
  },
  {
   "cell_type": "code",
   "execution_count": null,
   "metadata": {},
   "outputs": [],
   "source": [
    "orders = [\"daisy\", \"buttercup\", \"snapdragon\", \"gardenia\", \"lily\"]\n",
    "\n",
    "# Create new orders here:\n",
    "new_orders =  [\"lilac\", \"iris\"]\n",
    "\n",
    "orders_combined = orders + new_orders \n",
    "\n",
    "broken_prices = [5, 3, 4, 5, 4] + [4]"
   ]
  },
  {
   "cell_type": "markdown",
   "metadata": {},
   "source": [
    "# Mengakses list dengan index. \n",
    "Index pada list dimulai dari 0. jadi index dari element pertama pada list berindex 0. \n",
    "sekarang kita coba lihat bagaimana mengakses item dalam list menggunakan index. "
   ]
  },
  {
   "cell_type": "code",
   "execution_count": 5,
   "metadata": {},
   "outputs": [
    {
     "name": "stdout",
     "output_type": "stream",
     "text": [
      "Pam\n"
     ]
    }
   ],
   "source": [
    "employees = [\"Michael\", \"Dwight\", \"Jim\", \"Pam\", \"Ryan\", \"Andy\", \"Robert\"]\n",
    "forth_employee = employees[3]\n",
    "print(forth_employee)"
   ]
  },
  {
   "cell_type": "markdown",
   "metadata": {},
   "source": [
    "dari contoh di atas kita bisa lihat employee ke 4 berindex 3 dan begitu seterusnya. "
   ]
  },
  {
   "cell_type": "markdown",
   "metadata": {},
   "source": [
    "jika index melebih batas list maka akan terjadi error. yaitu index error. sseperti contoh di bawah. "
   ]
  },
  {
   "cell_type": "code",
   "execution_count": 6,
   "metadata": {},
   "outputs": [
    {
     "ename": "IndexError",
     "evalue": "list index out of range",
     "output_type": "error",
     "traceback": [
      "\u001b[0;31m---------------------------------------------------------------------------\u001b[0m",
      "\u001b[0;31mIndexError\u001b[0m                                Traceback (most recent call last)",
      "\u001b[1;32m/workspaces/mathonpython/buku/intro/list.ipynb Cell 8'\u001b[0m in \u001b[0;36m<cell line: 2>\u001b[0;34m()\u001b[0m\n\u001b[1;32m      <a href='vscode-notebook-cell://codespaces%2Bmrizklh-mathonpython-69gpqv7v6hrjj7/workspaces/mathonpython/buku/intro/list.ipynb#ch0000007vscode-remote?line=0'>1</a>\u001b[0m \u001b[39mlist\u001b[39m \u001b[39m=\u001b[39m [\u001b[39m1\u001b[39m, \u001b[39m2\u001b[39m, \u001b[39m3\u001b[39m, \u001b[39m4\u001b[39m, \u001b[39m5\u001b[39m]\n\u001b[0;32m----> <a href='vscode-notebook-cell://codespaces%2Bmrizklh-mathonpython-69gpqv7v6hrjj7/workspaces/mathonpython/buku/intro/list.ipynb#ch0000007vscode-remote?line=1'>2</a>\u001b[0m \u001b[39mprint\u001b[39m(\u001b[39mlist\u001b[39;49m[\u001b[39m6\u001b[39;49m])\n",
      "\u001b[0;31mIndexError\u001b[0m: list index out of range"
     ]
    }
   ],
   "source": [
    "list = [1, 2, 3, 4, 5]\n",
    "print(list[6])"
   ]
  },
  {
   "cell_type": "markdown",
   "metadata": {},
   "source": [
    "hal ini dikarenakan list[6] tidak ada. yang ada cuma sampe index 4. sehingga terjadi index error. "
   ]
  },
  {
   "cell_type": "markdown",
   "metadata": {},
   "source": [
    "# Negatif index: mengakses list dari belakang. \n",
    "\n",
    "Dengan negatif index kita bisa mengakses item pada list dari belakang. "
   ]
  },
  {
   "cell_type": "code",
   "execution_count": null,
   "metadata": {},
   "outputs": [],
   "source": [
    "shopping_list = [\"eggs\", \"butter\", \"milk\", \"cucumbers\", \"juice\", \"cereal\"]\n",
    "last_element = shopping_list[-1]\n",
    "index5_element = shopping_list[5]\n",
    "print(last_element)\n",
    "print(index5_element)"
   ]
  },
  {
   "cell_type": "markdown",
   "metadata": {},
   "source": [
    "# Modifikasi element list.\n",
    "\n",
    "kita bisa mengganti elemen list dengan menggunakan operator assignment."
   ]
  },
  {
   "cell_type": "code",
   "execution_count": null,
   "metadata": {},
   "outputs": [],
   "source": [
    "arden_waitlist = [\"Jiho\", \"Adam\",\"Sonny\", \"Alisha\"]\n",
    "garden_waitlist[1] = \"Calla\"\n",
    "print(garden_waitlist)\n",
    "\n",
    "garden_waitlist[-1] = \"Alex\"\n",
    "print(garden_waitlist)\n"
   ]
  },
  {
   "cell_type": "markdown",
   "metadata": {},
   "source": [
    "# Removing element list.\n",
    "\n",
    "Kita bisa menghilangkan item dari suat List. dengan method .remove. seperti contoh dibawah. "
   ]
  },
  {
   "cell_type": "code",
   "execution_count": null,
   "metadata": {},
   "outputs": [],
   "source": [
    "order_list = [\"Celery\", \"Orange Juice\", \"Orange\", \"Flatbread\"]\n",
    "print(order_list)\n",
    "order_list.remove(\"Flatbread\")\n",
    "print(order_list)\n",
    "new_store_order_list = [\"Orange\", \"Apple\", \"Mango\", \"Broccoli\", \"Mango\"]\n",
    "print(new_store_order_list)\n",
    "new_store_order_list.remove(\"Mango\")\n",
    "print(new_store_order_list)\n",
    "new_store_order_list.remove(\"Onions\")"
   ]
  },
  {
   "cell_type": "markdown",
   "metadata": {},
   "source": [
    "kita tidak bisa remove item yang tidak ada di list. jika kita melakukan itu akan terjadi value error."
   ]
  },
  {
   "cell_type": "markdown",
   "metadata": {},
   "source": [
    "# Two Dimension List\n",
    "\n",
    "List bisa mengandung list lain. seperti contoh dibawah."
   ]
  },
  {
   "cell_type": "code",
   "execution_count": null,
   "metadata": {},
   "outputs": [],
   "source": [
    "heights = [[\"Jenny\", 61], [\"Alexus\", 70], [\"Sam\", 67], [\"Grace\", 64]]\n",
    "heights.append([\"Vik\", 68])\n",
    "print(heights)\n",
    "\n",
    "ages = [[\"Aaron\", 15],[\"Dhruti\", 16]]"
   ]
  },
  {
   "cell_type": "code",
   "execution_count": null,
   "metadata": {},
   "outputs": [],
   "source": [
    "class_name_test = [[\"Jenny\",\t90],[\"Alexus\",\t85.5],[\"Sam\",\t83],[\"Ellie\",\t101.5]]\n",
    "print(class_name_test)\n",
    "sams_score = class_name_test[2][1]\n",
    "print(sams_score)\n",
    "ellies_score = class_name_test[-1][-1]\n",
    "print(ellies_score)"
   ]
  },
  {
   "cell_type": "code",
   "execution_count": null,
   "metadata": {},
   "outputs": [],
   "source": [
    "incoming_class = [[\"Kenny\", \"American\", 9],[\"Tanya\", \"Russian\", 9], [\"Madison\", \"Indian\", 7]]\n",
    "incoming_class[2][2] = 8 \n",
    "print(incoming_class)\n",
    "incoming_class[-3][-3] = \"Ken\"\n",
    "print(incoming_class)"
   ]
  },
  {
   "cell_type": "markdown",
   "metadata": {},
   "source": [
    "# Review about list. \n",
    "\n"
   ]
  },
  {
   "cell_type": "code",
   "execution_count": null,
   "metadata": {},
   "outputs": [],
   "source": [
    "first_names = [\"Ainsley\", \"Ben\", \"Chani\",\"Depak\"] \n",
    "preferred_size = [\"Small\", \"Large\", \"Medium\"]\n",
    "preferred_size.append(\"Medium\")\n",
    "print(preferred_size)\n",
    "customer_data = [[\"Ainsley\",\t\"Small\",\tTrue],[\"Ben\",\t\"Large\",\tFalse],[\"Chani\",\"Medium\",\tTrue],[\"Depak\",\"Medium\", False]]\n",
    "print(customer_data)\n",
    "customer_data[2][2] = False\n",
    "customer_data[1].remove(customer_data[1][2])"
   ]
  },
  {
   "cell_type": "markdown",
   "metadata": {},
   "source": []
  }
 ],
 "metadata": {
  "kernelspec": {
   "display_name": "Python 3.10.4 64-bit",
   "language": "python",
   "name": "python3"
  },
  "language_info": {
   "codemirror_mode": {
    "name": "ipython",
    "version": 3
   },
   "file_extension": ".py",
   "mimetype": "text/x-python",
   "name": "python",
   "nbconvert_exporter": "python",
   "pygments_lexer": "ipython3",
   "version": "3.10.4"
  },
  "vscode": {
   "interpreter": {
    "hash": "4f946df053fbf2b937619d3c5458e7af74262f9a954d8797ba0b27400bcafe06"
   }
  }
 },
 "nbformat": 4,
 "nbformat_minor": 2
}