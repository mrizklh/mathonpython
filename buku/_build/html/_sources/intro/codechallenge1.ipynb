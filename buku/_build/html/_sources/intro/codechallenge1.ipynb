{
 "cells": [
  {
   "cell_type": "markdown",
   "metadata": {},
   "source": [
    "## code challenge 1: control flow \n",
    "#### Larger Power "
   ]
  },
  {
   "cell_type": "code",
   "execution_count": null,
   "metadata": {},
   "outputs": [],
   "source": [
    "# Write your large_power function here:\n",
    "def large_power(base, exponent):\n",
    "  if base ** exponent > 5000: \n",
    "    return True \n",
    "  else: return False \n",
    "#Uncomment these function calls to test your large_power function:\n",
    "print(large_power(2, 13))\n",
    "# should print True\n",
    "print(large_power(2, 12))\n",
    "# should print False"
   ]
  },
  {
   "cell_type": "markdown",
   "metadata": {},
   "source": [
    "#### Over Budget "
   ]
  },
  {
   "cell_type": "code",
   "execution_count": null,
   "metadata": {},
   "outputs": [],
   "source": [
    "# Write your over_budget function here:\n",
    "def over_budget(budget, food_bill, electricity_bill, internet_bill, rent):\n",
    "  if budget - (food_bill+ electricity_bill+ internet_bill + rent ) < 0: \n",
    "    return True\n",
    "  else: return False\n",
    "# Uncomment these function calls to test your over_budget function:\n",
    "print(over_budget(100, 20, 30, 10, 40))\n",
    "# should print False\n",
    "print(over_budget(80, 20, 30, 10, 30))\n",
    "# should print True"
   ]
  },
  {
   "cell_type": "markdown",
   "metadata": {},
   "source": [
    "#### twice as large"
   ]
  },
  {
   "cell_type": "code",
   "execution_count": null,
   "metadata": {},
   "outputs": [],
   "source": [
    "# Write your twice_as_large function here:\n",
    "def twice_as_large(num1, num2): \n",
    "  if num1 > num2 *2: \n",
    "    return True \n",
    "  else:\n",
    "    return False \n",
    "# Uncomment these function calls to test your twice_as_large function:\n",
    "print(twice_as_large(10, 5))\n",
    "# should print False\n",
    "print(twice_as_large(11, 5))\n",
    "# should print True"
   ]
  },
  {
   "cell_type": "markdown",
   "metadata": {},
   "source": [
    "#### divisible by ten"
   ]
  },
  {
   "cell_type": "code",
   "execution_count": null,
   "metadata": {},
   "outputs": [],
   "source": [
    "def divisible_by_ten(num): \n",
    "  if num % 10 == 0: \n",
    "    return True \n",
    "  else: \n",
    "    return False "
   ]
  },
  {
   "cell_type": "markdown",
   "metadata": {},
   "source": [
    "### Control Flow: Advanced\n",
    "#### in range"
   ]
  },
  {
   "cell_type": "code",
   "execution_count": null,
   "metadata": {},
   "outputs": [],
   "source": [
    "def in_range(num, lower, upper):\n",
    "  if num >= lower and num <= upper: \n",
    "    return True\n",
    "  else:\n",
    "    return False  "
   ]
  },
  {
   "cell_type": "markdown",
   "metadata": {},
   "source": [
    "#### Same Name "
   ]
  },
  {
   "cell_type": "code",
   "execution_count": null,
   "metadata": {},
   "outputs": [],
   "source": [
    "def same_name(your_name, my_name):\n",
    "  if your_name == my_name: \n",
    "    return True \n",
    "  else: \n",
    "    return False "
   ]
  },
  {
   "cell_type": "markdown",
   "metadata": {},
   "source": [
    "#### always false "
   ]
  },
  {
   "cell_type": "code",
   "execution_count": null,
   "metadata": {},
   "outputs": [],
   "source": [
    "def always_false(num):\n",
    "  if num > 10 and num < 5: \n",
    "    return True \n",
    "  else: return False "
   ]
  },
  {
   "cell_type": "code",
   "execution_count": null,
   "metadata": {},
   "outputs": [],
   "source": [
    "def retry(operation, attempts):\n",
    "  for n in range(attempts):\n",
    "    if operation():\n",
    "      print(\"Attempt \" + str(n) + \" succeeded\")\n",
    "    \n",
    "    \n",
    "    else:\n",
    "      print(\"Attempt \" + str(n) + \" failed\")\n",
    "\n",
    "retry(create_user, 3)\n",
    "retry(stop_service, 5)"
   ]
  },
  {
   "cell_type": "code",
   "execution_count": null,
   "metadata": {},
   "outputs": [],
   "source": [
    "def factorial(n):\n",
    "    result = 1\n",
    "    for x in range(1,n):\n",
    "        result = x * result\n",
    "    return result\n",
    "\n",
    "for n in range(0,9):\n",
    "    print(n, factorial(n+1))"
   ]
  },
  {
   "cell_type": "code",
   "execution_count": 1,
   "metadata": {},
   "outputs": [
    {
     "name": "stdout",
     "output_type": "stream",
     "text": [
      "0\n",
      "1\n",
      "55\n",
      "114\n"
     ]
    }
   ],
   "source": [
    "def sum_divisors(n):\n",
    "  sum = 0\n",
    "  divisors = 1 \n",
    "  while n > divisors: \n",
    "    if n % divisors ==0: \n",
    "      sum += divisors \n",
    "    divisors += 1 \n",
    "\n",
    "\n",
    "  # Return the sum of all divisors of n, not including n\n",
    "  return sum\n",
    "\n",
    "print(sum_divisors(0))\n",
    "# 0\n",
    "print(sum_divisors(3)) # Should sum of 1\n",
    "# 1\n",
    "print(sum_divisors(36)) # Should sum of 1+2+3+4+6+9+12+18\n",
    "# 55\n",
    "print(sum_divisors(102)) # Should be sum of 2+3+6+17+34+51\n",
    "# 114\n"
   ]
  },
  {
   "cell_type": "code",
   "execution_count": null,
   "metadata": {},
   "outputs": [],
   "source": [
    "def is_power_of_two(n):\n",
    "    # make a function that take a number and return True if it is a power of two, otherwise return False\n",
    "    if n == 0:\n",
    "        return False\n",
    "    while n % 2 == 0:\n",
    "        n = n / 2\n",
    "    if n == 1:\n",
    "        return True\n",
    "    else:\n",
    "        return False\n",
    "\n",
    "  \n",
    "\n",
    "print(is_power_of_two(0)) # Should be False\n",
    "print(is_power_of_two(1)) # Should be True\n",
    "print(is_power_of_two(8)) # Should be True\n",
    "print(is_power_of_two(9)) # Should be False"
   ]
  },
  {
   "cell_type": "code",
   "execution_count": null,
   "metadata": {},
   "outputs": [],
   "source": [
    "def print_prime_factors(number):\n",
    "  # Start with two, which is the first prime\n",
    "  factor = 2\n",
    "  list = []\n",
    "  # Keep going until the factor is larger than the number\n",
    "  while factor <= number:\n",
    "    # Check if factor is a divisor of number\n",
    "    if number % factor == 0:\n",
    "      # If it is, print it and divide the original number\n",
    "      list.append(str(factor))\n",
    "      # print(factor)\n",
    "      number = number / factor\n",
    "    else:\n",
    "      # If it's not, increment the factor by one\n",
    "      factor += 1\n",
    "  \n",
    "  print(', '.join(list))\n",
    "  \n",
    "\n",
    "print_prime_factors(25876858)\n",
    "# Should print 2,2,5,5\n",
    "# DO NOT DELETE THIS COMMENT"
   ]
  }
 ],
 "metadata": {
  "kernelspec": {
   "display_name": "Python 3.10.4 64-bit",
   "language": "python",
   "name": "python3"
  },
  "language_info": {
   "codemirror_mode": {
    "name": "ipython",
    "version": 3
   },
   "file_extension": ".py",
   "mimetype": "text/x-python",
   "name": "python",
   "nbconvert_exporter": "python",
   "pygments_lexer": "ipython3",
   "version": "3.10.4"
  },
  "orig_nbformat": 4,
  "vscode": {
   "interpreter": {
    "hash": "4f946df053fbf2b937619d3c5458e7af74262f9a954d8797ba0b27400bcafe06"
   }
  }
 },
 "nbformat": 4,
 "nbformat_minor": 2
}
