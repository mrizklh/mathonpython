{
 "cells": [
  {
   "cell_type": "markdown",
   "metadata": {},
   "source": [
    "# Recursion \n",
    "Rekursi adalah "
   ]
  },
  {
   "cell_type": "code",
   "execution_count": 4,
   "metadata": {},
   "outputs": [
    {
     "data": {
      "text/plain": [
       "False"
      ]
     },
     "execution_count": 4,
     "metadata": {},
     "output_type": "execute_result"
    }
   ],
   "source": [
    "rekusi adalah adalah memanggil suatu fungsi di dalam fungsi itu sendiri. "
   ]
  },
  {
   "cell_type": "markdown",
   "metadata": {},
   "source": [
    "## contoh kasus \n",
    "let says... kita ingin membuat fungsi yang mengambil suatu input bilangan bulat dan mengembalikan total penjumlahan dari 1 sampai input tersebut."
   ]
  },
  {
   "cell_type": "markdown",
   "metadata": {},
   "source": [
    "### jawab\n",
    "kasus ini dapat diselesaikan dengan metode rekusif. karena f(n) = f(n-1) + n, maka kita bisa mengimplementasikan fungsi ini dengan rekusif. bentuk kodenya dalah sebagai berikut.  \n"
   ]
  },
  {
   "cell_type": "code",
   "execution_count": 8,
   "metadata": {},
   "outputs": [
    {
     "data": {
      "text/plain": [
       "3828"
      ]
     },
     "execution_count": 8,
     "metadata": {},
     "output_type": "execute_result"
    }
   ],
   "source": [
    "def jumlah_sampai_n(n): \n",
    "    if n == 0: \n",
    "        return 0\n",
    "    elif n < 0: \n",
    "        return n + jumlah_sampai_n(n+1)\n",
    "    else:\n",
    "        return n + jumlah_sampai_n(n-1)\n",
    "jumlah_sampai_n(5)"
   ]
  },
  {
   "cell_type": "markdown",
   "metadata": {},
   "source": [
    "### is power of \n",
    "mari kita buat funsi yang mengamambil dua input, pada argument pertama meruapakan bilangan bulat dan pada argument kedua meruapakan bilangan bulat. fungsi ini akan mengembalikan true jika bilangan tersebut merupakan pangkat dari bilangan lain.\n",
    "\n",
    "misalnya f(8,2) maka outputnya harusnya True. karena 2^3 = 8. "
   ]
  },
  {
   "cell_type": "code",
   "execution_count": 9,
   "metadata": {},
   "outputs": [
    {
     "data": {
      "text/plain": [
       "False"
      ]
     },
     "execution_count": 9,
     "metadata": {},
     "output_type": "execute_result"
    }
   ],
   "source": [
    "a = 2^89245823459\n",
    "def is_powerof(a, b): \n",
    "    \n",
    "    if a == b: \n",
    "        return True\n",
    "    elif a < b: \n",
    "        return False\n",
    "    else:\n",
    "        return is_powerof(a/b, b)\n",
    "is_powerof(a, 2)"
   ]
  },
  {
   "cell_type": "markdown",
   "metadata": {},
   "source": [
    "pada contoh kode diatas merupakan contoh funsi yang bisa didefinisikan dengan fungsi itu sendiri. f(5,2) = f(2.5/2,2) = f(4/2,2)"
   ]
  },
  {
   "cell_type": "code",
   "execution_count": 11,
   "metadata": {},
   "outputs": [
    {
     "data": {
      "text/plain": [
       "1.0"
      ]
     },
     "execution_count": 11,
     "metadata": {},
     "output_type": "execute_result"
    }
   ],
   "source": [
    "# make a function that take 2 input a number and base number and return the exponent of the number\n",
    "def exponent(a, b):\n",
    "    if b == 1:\n",
    "        return a\n",
    "    else:\n",
    "        return \n",
    "\n",
    "exponent(8, 2)"
   ]
  },
  {
   "cell_type": "markdown",
   "metadata": {},
   "source": [
    "f(n,m)= f()"
   ]
  },
  {
   "cell_type": "code",
   "execution_count": 17,
   "metadata": {},
   "outputs": [
    {
     "data": {
      "text/plain": [
       "'a tidak genap pangkat b'"
      ]
     },
     "execution_count": 17,
     "metadata": {},
     "output_type": "execute_result"
    }
   ],
   "source": [
    "## maek a function that take a 2 number that is number and base number and return the exponent of the number\n",
    "def how_many_exponent(a, b):\n",
    "    if a == b:\n",
    "        return 1\n",
    "    elif a % b != 0:\n",
    "        return \"a tidak genap pangkat b\"\n",
    "    else:\n",
    "        return 1 + how_many_exponent(a/b, b)\n",
    "how_many_exponent(3, 2)\n",
    "  "
   ]
  },
  {
   "cell_type": "code",
   "execution_count": null,
   "metadata": {},
   "outputs": [],
   "source": []
  }
 ],
 "metadata": {
  "kernelspec": {
   "display_name": "Python 3.10.4 64-bit",
   "language": "python",
   "name": "python3"
  },
  "language_info": {
   "codemirror_mode": {
    "name": "ipython",
    "version": 3
   },
   "file_extension": ".py",
   "mimetype": "text/x-python",
   "name": "python",
   "nbconvert_exporter": "python",
   "pygments_lexer": "ipython3",
   "version": "3.10.4"
  },
  "orig_nbformat": 4,
  "vscode": {
   "interpreter": {
    "hash": "4f946df053fbf2b937619d3c5458e7af74262f9a954d8797ba0b27400bcafe06"
   }
  }
 },
 "nbformat": 4,
 "nbformat_minor": 2
}
